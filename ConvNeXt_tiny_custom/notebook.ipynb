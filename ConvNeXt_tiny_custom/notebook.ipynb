{
 "cells": [
  {
   "cell_type": "markdown",
   "metadata": {},
   "source": [
    "# Import dependencies"
   ]
  },
  {
   "cell_type": "code",
   "execution_count": 1,
   "metadata": {
    "_cell_guid": "b1076dfc-b9ad-4769-8c92-a6c4dae69d19",
    "_uuid": "8f2839f25d086af736a60e9eeb907d3b93b6e0e5",
    "execution": {
     "iopub.execute_input": "2025-07-10T08:41:30.277376Z",
     "iopub.status.busy": "2025-07-10T08:41:30.276658Z",
     "iopub.status.idle": "2025-07-10T08:41:30.280687Z",
     "shell.execute_reply": "2025-07-10T08:41:30.280112Z",
     "shell.execute_reply.started": "2025-07-10T08:41:30.277355Z"
    },
    "trusted": true
   },
   "outputs": [],
   "source": [
    "import pandas as pd\n",
    "import matplotlib.pyplot as plt\n",
    "import numpy as np"
   ]
  },
  {
   "cell_type": "code",
   "execution_count": 2,
   "metadata": {
    "execution": {
     "iopub.execute_input": "2025-07-10T08:41:30.281762Z",
     "iopub.status.busy": "2025-07-10T08:41:30.281531Z",
     "iopub.status.idle": "2025-07-10T08:41:30.297361Z",
     "shell.execute_reply": "2025-07-10T08:41:30.296856Z",
     "shell.execute_reply.started": "2025-07-10T08:41:30.281735Z"
    },
    "trusted": true
   },
   "outputs": [
    {
     "name": "stderr",
     "output_type": "stream",
     "text": [
      "2025-07-10 17:17:59.585296: I external/local_xla/xla/tsl/cuda/cudart_stub.cc:32] Could not find cuda drivers on your machine, GPU will not be used.\n",
      "2025-07-10 17:18:00.421043: I external/local_xla/xla/tsl/cuda/cudart_stub.cc:32] Could not find cuda drivers on your machine, GPU will not be used.\n",
      "2025-07-10 17:18:01.306465: E external/local_xla/xla/stream_executor/cuda/cuda_fft.cc:467] Unable to register cuFFT factory: Attempting to register factory for plugin cuFFT when one has already been registered\n",
      "WARNING: All log messages before absl::InitializeLog() is called are written to STDERR\n",
      "E0000 00:00:1752147182.430173    5224 cuda_dnn.cc:8579] Unable to register cuDNN factory: Attempting to register factory for plugin cuDNN when one has already been registered\n",
      "E0000 00:00:1752147182.658974    5224 cuda_blas.cc:1407] Unable to register cuBLAS factory: Attempting to register factory for plugin cuBLAS when one has already been registered\n",
      "W0000 00:00:1752147184.119468    5224 computation_placer.cc:177] computation placer already registered. Please check linkage and avoid linking the same target more than once.\n",
      "W0000 00:00:1752147184.119508    5224 computation_placer.cc:177] computation placer already registered. Please check linkage and avoid linking the same target more than once.\n",
      "W0000 00:00:1752147184.119511    5224 computation_placer.cc:177] computation placer already registered. Please check linkage and avoid linking the same target more than once.\n",
      "W0000 00:00:1752147184.119514    5224 computation_placer.cc:177] computation placer already registered. Please check linkage and avoid linking the same target more than once.\n",
      "2025-07-10 17:18:04.256516: I tensorflow/core/platform/cpu_feature_guard.cc:210] This TensorFlow binary is optimized to use available CPU instructions in performance-critical operations.\n",
      "To enable the following instructions: AVX2 FMA, in other operations, rebuild TensorFlow with the appropriate compiler flags.\n"
     ]
    }
   ],
   "source": [
    "import tensorflow as tf\n",
    "from tensorflow.keras import layers, models"
   ]
  },
  {
   "cell_type": "markdown",
   "metadata": {},
   "source": [
    "# Classes and num_classes"
   ]
  },
  {
   "cell_type": "code",
   "execution_count": 3,
   "metadata": {
    "execution": {
     "iopub.execute_input": "2025-07-10T08:40:09.908248Z",
     "iopub.status.busy": "2025-07-10T08:40:09.908074Z",
     "iopub.status.idle": "2025-07-10T08:40:09.915005Z",
     "shell.execute_reply": "2025-07-10T08:40:09.914304Z",
     "shell.execute_reply.started": "2025-07-10T08:40:09.908231Z"
    },
    "trusted": true
   },
   "outputs": [],
   "source": [
    "import os"
   ]
  },
  {
   "cell_type": "code",
   "execution_count": 4,
   "metadata": {
    "execution": {
     "iopub.execute_input": "2025-07-10T08:40:14.598977Z",
     "iopub.status.busy": "2025-07-10T08:40:14.598377Z",
     "iopub.status.idle": "2025-07-10T08:40:14.615739Z",
     "shell.execute_reply": "2025-07-10T08:40:14.615150Z",
     "shell.execute_reply.started": "2025-07-10T08:40:14.598954Z"
    },
    "trusted": true
   },
   "outputs": [
    {
     "name": "stdout",
     "output_type": "stream",
     "text": [
      "['Target_Spot', 'Tomato_mosaic_virus', 'healthy', 'Bacterial_spot', 'Leaf_Mold', 'Early_blight', 'Tomato_Yellow_Leaf_Curl_Virus', 'Late_blight', 'Septoria_leaf_spot', 'Spider_mites Two-spotted_spider_mite', 'powdery_mildew']\n"
     ]
    }
   ],
   "source": [
    "\n",
    "train_dir = 'archive/train'\n",
    "# List all directories inside train_dir\n",
    "classes = [name for name in os.listdir(train_dir) if os.path.isdir(os.path.join(train_dir, name))]\n",
    "\n",
    "print(classes)"
   ]
  },
  {
   "cell_type": "code",
   "execution_count": 5,
   "metadata": {
    "execution": {
     "iopub.execute_input": "2025-07-10T08:40:19.413749Z",
     "iopub.status.busy": "2025-07-10T08:40:19.413476Z",
     "iopub.status.idle": "2025-07-10T08:40:19.417262Z",
     "shell.execute_reply": "2025-07-10T08:40:19.416566Z",
     "shell.execute_reply.started": "2025-07-10T08:40:19.413727Z"
    },
    "trusted": true
   },
   "outputs": [],
   "source": [
    "num_classes = len(classes)"
   ]
  },
  {
   "cell_type": "code",
   "execution_count": 6,
   "metadata": {
    "execution": {
     "iopub.execute_input": "2025-07-10T08:40:28.999199Z",
     "iopub.status.busy": "2025-07-10T08:40:28.998950Z",
     "iopub.status.idle": "2025-07-10T08:40:29.003301Z",
     "shell.execute_reply": "2025-07-10T08:40:29.002523Z",
     "shell.execute_reply.started": "2025-07-10T08:40:28.999178Z"
    },
    "trusted": true
   },
   "outputs": [
    {
     "name": "stdout",
     "output_type": "stream",
     "text": [
      "11\n"
     ]
    }
   ],
   "source": [
    "print(num_classes)"
   ]
  },
  {
   "cell_type": "markdown",
   "metadata": {},
   "source": [
    "# Data gen"
   ]
  },
  {
   "cell_type": "code",
   "execution_count": 7,
   "metadata": {
    "execution": {
     "iopub.execute_input": "2025-07-10T08:41:01.543486Z",
     "iopub.status.busy": "2025-07-10T08:41:01.542957Z",
     "iopub.status.idle": "2025-07-10T08:41:30.275424Z",
     "shell.execute_reply": "2025-07-10T08:41:30.274863Z",
     "shell.execute_reply.started": "2025-07-10T08:41:01.543463Z"
    },
    "trusted": true
   },
   "outputs": [
    {
     "name": "stdout",
     "output_type": "stream",
     "text": [
      "Found 25851 images belonging to 11 classes.\n",
      "Found 6683 images belonging to 11 classes.\n"
     ]
    }
   ],
   "source": [
    "from tensorflow.keras.preprocessing.image import ImageDataGenerator\n",
    "\n",
    "train_dir = 'archive/train'\n",
    "test_dir = 'archive/valid'\n",
    "\n",
    "# Data generators with basic augmentation for train, only rescale for test\n",
    "train_datagen = ImageDataGenerator(rescale=1./255, rotation_range=20, zoom_range=0.2, horizontal_flip=True)\n",
    "test_datagen = ImageDataGenerator(rescale=1./255)\n",
    "\n",
    "train_generator = train_datagen.flow_from_directory(\n",
    "    train_dir,\n",
    "    target_size=(224, 224),  # for convnext-tiny\n",
    "    batch_size=32,\n",
    "    class_mode='categorical'  # for 11 classes\n",
    ")\n",
    "\n",
    "test_generator = test_datagen.flow_from_directory(\n",
    "    test_dir,\n",
    "    target_size=(224, 224),\n",
    "    batch_size=32,\n",
    "    class_mode='categorical'\n",
    ")"
   ]
  },
  {
   "cell_type": "markdown",
   "metadata": {},
   "source": [
    "# Model definition"
   ]
  },
  {
   "cell_type": "code",
   "execution_count": 8,
   "metadata": {
    "execution": {
     "iopub.execute_input": "2025-07-10T08:41:41.891620Z",
     "iopub.status.busy": "2025-07-10T08:41:41.891069Z",
     "iopub.status.idle": "2025-07-10T08:41:45.792750Z",
     "shell.execute_reply": "2025-07-10T08:41:45.791964Z",
     "shell.execute_reply.started": "2025-07-10T08:41:41.891596Z"
    },
    "trusted": true
   },
   "outputs": [
    {
     "name": "stderr",
     "output_type": "stream",
     "text": [
      "E0000 00:00:1752147194.780781    5224 cuda_executor.cc:1228] INTERNAL: CUDA Runtime error: Failed call to cudaGetRuntimeVersion: Error loading CUDA libraries. GPU will not be used.: Error loading CUDA libraries. GPU will not be used.\n",
      "W0000 00:00:1752147194.835330    5224 gpu_device.cc:2341] Cannot dlopen some GPU libraries. Please make sure the missing libraries mentioned above are installed properly if you would like to use GPU. Follow the guide at https://www.tensorflow.org/install/gpu for how to download and setup the required libraries for your platform.\n",
      "Skipping registering GPU devices...\n"
     ]
    },
    {
     "name": "stdout",
     "output_type": "stream",
     "text": [
      "Downloading data from https://storage.googleapis.com/tensorflow/keras-applications/convnext/convnext_tiny_notop.h5\n",
      "\u001b[1m111650432/111650432\u001b[0m \u001b[32m━━━━━━━━━━━━━━━━━━━━\u001b[0m\u001b[37m\u001b[0m \u001b[1m96s\u001b[0m 1us/step\n"
     ]
    }
   ],
   "source": [
    "convnextt = tf.keras.applications.ConvNeXtTiny(\n",
    "    include_top=False,\n",
    "    weights=\"imagenet\",\n",
    "    input_shape=(224, 224, 3),\n",
    "    pooling=\"avg\"\n",
    ")\n",
    "convnextt.trainable = False  # Freeze base for transfer learning"
   ]
  },
  {
   "cell_type": "code",
   "execution_count": 9,
   "metadata": {
    "execution": {
     "iopub.execute_input": "2025-07-10T08:44:57.867129Z",
     "iopub.status.busy": "2025-07-10T08:44:57.866405Z",
     "iopub.status.idle": "2025-07-10T08:44:57.891242Z",
     "shell.execute_reply": "2025-07-10T08:44:57.890693Z",
     "shell.execute_reply.started": "2025-07-10T08:44:57.867102Z"
    },
    "trusted": true
   },
   "outputs": [],
   "source": [
    "from tensorflow.keras import layers, models\n",
    "\n",
    "num_classes = num_classes\n",
    "\n",
    "model = models.Sequential([\n",
    "    convnextt,\n",
    "    layers.Dense(256, activation=\"relu\"),\n",
    "    layers.Dropout(0.5),\n",
    "    layers.Dense(num_classes, activation=\"softmax\")\n",
    "])"
   ]
  },
  {
   "cell_type": "code",
   "execution_count": 10,
   "metadata": {
    "execution": {
     "iopub.execute_input": "2025-07-10T08:45:07.473643Z",
     "iopub.status.busy": "2025-07-10T08:45:07.472978Z",
     "iopub.status.idle": "2025-07-10T08:45:07.478518Z",
     "shell.execute_reply": "2025-07-10T08:45:07.477879Z",
     "shell.execute_reply.started": "2025-07-10T08:45:07.473623Z"
    },
    "trusted": true
   },
   "outputs": [
    {
     "data": {
      "text/plain": [
       "11"
      ]
     },
     "execution_count": 10,
     "metadata": {},
     "output_type": "execute_result"
    }
   ],
   "source": [
    "num_classes"
   ]
  },
  {
   "cell_type": "markdown",
   "metadata": {},
   "source": [
    "# Training"
   ]
  },
  {
   "cell_type": "markdown",
   "metadata": {},
   "source": [
    "## Top level training"
   ]
  },
  {
   "cell_type": "code",
   "execution_count": 11,
   "metadata": {
    "execution": {
     "iopub.execute_input": "2025-07-10T08:57:54.790550Z",
     "iopub.status.busy": "2025-07-10T08:57:54.789848Z"
    },
    "trusted": true
   },
   "outputs": [
    {
     "name": "stderr",
     "output_type": "stream",
     "text": [
      "/home/mandip/mandip/projects/ml_projects/6.convnext_finetune/venv/lib/python3.12/site-packages/keras/src/trainers/data_adapters/py_dataset_adapter.py:121: UserWarning: Your `PyDataset` class should call `super().__init__(**kwargs)` in its constructor. `**kwargs` can include `workers`, `use_multiprocessing`, `max_queue_size`. Do not pass these arguments to `fit()`, as they will be ignored.\n",
      "  self._warn_if_super_not_called()\n"
     ]
    },
    {
     "ename": "ImportError",
     "evalue": "This requires the scipy module. You can install it via `pip install scipy`",
     "output_type": "error",
     "traceback": [
      "\u001b[31m---------------------------------------------------------------------------\u001b[39m",
      "\u001b[31mImportError\u001b[39m                               Traceback (most recent call last)",
      "\u001b[36mCell\u001b[39m\u001b[36m \u001b[39m\u001b[32mIn[11]\u001b[39m\u001b[32m, line 15\u001b[39m\n\u001b[32m      3\u001b[39m model.compile(\n\u001b[32m      4\u001b[39m     optimizer=tf.keras.optimizers.Adam(learning_rate=\u001b[32m0.001\u001b[39m),\n\u001b[32m      5\u001b[39m     loss=\u001b[33m\"\u001b[39m\u001b[33mcategorical_crossentropy\u001b[39m\u001b[33m\"\u001b[39m,\n\u001b[32m      6\u001b[39m     metrics=[\u001b[33m\"\u001b[39m\u001b[33maccuracy\u001b[39m\u001b[33m\"\u001b[39m]\n\u001b[32m      7\u001b[39m )\n\u001b[32m      9\u001b[39m early_stop = EarlyStopping(\n\u001b[32m     10\u001b[39m     monitor=\u001b[33m'\u001b[39m\u001b[33mval_accuracy\u001b[39m\u001b[33m'\u001b[39m,       \n\u001b[32m     11\u001b[39m     patience=\u001b[32m3\u001b[39m,\n\u001b[32m     12\u001b[39m     restore_best_weights=\u001b[38;5;28;01mTrue\u001b[39;00m\n\u001b[32m     13\u001b[39m )\n\u001b[32m---> \u001b[39m\u001b[32m15\u001b[39m history = \u001b[43mmodel\u001b[49m\u001b[43m.\u001b[49m\u001b[43mfit\u001b[49m\u001b[43m(\u001b[49m\n\u001b[32m     16\u001b[39m \u001b[43m    \u001b[49m\u001b[43mtrain_generator\u001b[49m\u001b[43m,\u001b[49m\n\u001b[32m     17\u001b[39m \u001b[43m    \u001b[49m\u001b[43mvalidation_data\u001b[49m\u001b[43m=\u001b[49m\u001b[43mtest_generator\u001b[49m\u001b[43m,\u001b[49m\n\u001b[32m     18\u001b[39m \u001b[43m    \u001b[49m\u001b[43mepochs\u001b[49m\u001b[43m=\u001b[49m\u001b[32;43m20\u001b[39;49m\u001b[43m,\u001b[49m\u001b[43m                     \u001b[49m\n\u001b[32m     19\u001b[39m \u001b[43m    \u001b[49m\u001b[43mcallbacks\u001b[49m\u001b[43m=\u001b[49m\u001b[43m[\u001b[49m\u001b[43mearly_stop\u001b[49m\u001b[43m]\u001b[49m\n\u001b[32m     20\u001b[39m \u001b[43m)\u001b[49m\n",
      "\u001b[36mFile \u001b[39m\u001b[32m~/mandip/projects/ml_projects/6.convnext_finetune/venv/lib/python3.12/site-packages/keras/src/utils/traceback_utils.py:122\u001b[39m, in \u001b[36mfilter_traceback.<locals>.error_handler\u001b[39m\u001b[34m(*args, **kwargs)\u001b[39m\n\u001b[32m    119\u001b[39m     filtered_tb = _process_traceback_frames(e.__traceback__)\n\u001b[32m    120\u001b[39m     \u001b[38;5;66;03m# To get the full stack trace, call:\u001b[39;00m\n\u001b[32m    121\u001b[39m     \u001b[38;5;66;03m# `keras.config.disable_traceback_filtering()`\u001b[39;00m\n\u001b[32m--> \u001b[39m\u001b[32m122\u001b[39m     \u001b[38;5;28;01mraise\u001b[39;00m e.with_traceback(filtered_tb) \u001b[38;5;28;01mfrom\u001b[39;00m\u001b[38;5;250m \u001b[39m\u001b[38;5;28;01mNone\u001b[39;00m\n\u001b[32m    123\u001b[39m \u001b[38;5;28;01mfinally\u001b[39;00m:\n\u001b[32m    124\u001b[39m     \u001b[38;5;28;01mdel\u001b[39;00m filtered_tb\n",
      "\u001b[36mFile \u001b[39m\u001b[32m~/mandip/projects/ml_projects/6.convnext_finetune/venv/lib/python3.12/site-packages/keras/src/utils/module_utils.py:29\u001b[39m, in \u001b[36mLazyModule.initialize\u001b[39m\u001b[34m(self)\u001b[39m\n\u001b[32m     27\u001b[39m     \u001b[38;5;28mself\u001b[39m.module = importlib.import_module(\u001b[38;5;28mself\u001b[39m.name)\n\u001b[32m     28\u001b[39m \u001b[38;5;28;01mexcept\u001b[39;00m \u001b[38;5;167;01mImportError\u001b[39;00m:\n\u001b[32m---> \u001b[39m\u001b[32m29\u001b[39m     \u001b[38;5;28;01mraise\u001b[39;00m \u001b[38;5;167;01mImportError\u001b[39;00m(\u001b[38;5;28mself\u001b[39m.import_error_msg)\n",
      "\u001b[31mImportError\u001b[39m: This requires the scipy module. You can install it via `pip install scipy`"
     ]
    }
   ],
   "source": [
    "from tensorflow.keras.callbacks import EarlyStopping\n",
    "\n",
    "model.compile(\n",
    "    optimizer=tf.keras.optimizers.Adam(learning_rate=0.001),\n",
    "    loss=\"categorical_crossentropy\",\n",
    "    metrics=[\"accuracy\"]\n",
    ")\n",
    "\n",
    "early_stop = EarlyStopping(\n",
    "    monitor='val_accuracy',       \n",
    "    patience=3,\n",
    "    restore_best_weights=True\n",
    ")\n",
    "\n",
    "history = model.fit(\n",
    "    train_generator,\n",
    "    validation_data=test_generator,\n",
    "    epochs=20,                     \n",
    "    callbacks=[early_stop]\n",
    ")"
   ]
  },
  {
   "cell_type": "markdown",
   "metadata": {},
   "source": [
    "## Finetuning"
   ]
  },
  {
   "cell_type": "code",
   "execution_count": null,
   "metadata": {
    "execution": {
     "iopub.execute_input": "2025-07-09T18:00:06.353960Z",
     "iopub.status.busy": "2025-07-09T18:00:06.353208Z",
     "iopub.status.idle": "2025-07-09T19:21:07.411055Z",
     "shell.execute_reply": "2025-07-09T19:21:07.409334Z",
     "shell.execute_reply.started": "2025-07-09T18:00:06.353919Z"
    },
    "trusted": true
   },
   "outputs": [
    {
     "name": "stderr",
     "output_type": "stream",
     "text": [
      "/usr/local/lib/python3.11/dist-packages/keras/src/trainers/data_adapters/py_dataset_adapter.py:121: UserWarning: Your `PyDataset` class should call `super().__init__(**kwargs)` in its constructor. `**kwargs` can include `workers`, `use_multiprocessing`, `max_queue_size`. Do not pass these arguments to `fit()`, as they will be ignored.\n",
      "  self._warn_if_super_not_called()\n"
     ]
    },
    {
     "name": "stdout",
     "output_type": "stream",
     "text": [
      "Epoch 1/50\n",
      "\u001b[1m808/808\u001b[0m \u001b[32m━━━━━━━━━━━━━━━━━━━━\u001b[0m\u001b[37m\u001b[0m \u001b[1m852s\u001b[0m 1s/step - accuracy: 0.4382 - loss: 2.7050 - val_accuracy: 0.5815 - val_loss: 1.4154\n",
      "Epoch 2/50\n",
      "\u001b[1m808/808\u001b[0m \u001b[32m━━━━━━━━━━━━━━━━━━━━\u001b[0m\u001b[37m\u001b[0m \u001b[1m785s\u001b[0m 971ms/step - accuracy: 0.6633 - loss: 1.1516 - val_accuracy: 0.5327 - val_loss: 1.7066\n",
      "Epoch 3/50\n",
      "\u001b[1m808/808\u001b[0m \u001b[32m━━━━━━━━━━━━━━━━━━━━\u001b[0m\u001b[37m\u001b[0m \u001b[1m784s\u001b[0m 970ms/step - accuracy: 0.7399 - loss: 0.8966 - val_accuracy: 0.6003 - val_loss: 1.5194\n",
      "Epoch 4/50\n",
      "\u001b[1m808/808\u001b[0m \u001b[32m━━━━━━━━━━━━━━━━━━━━\u001b[0m\u001b[37m\u001b[0m \u001b[1m783s\u001b[0m 970ms/step - accuracy: 0.7718 - loss: 0.7896 - val_accuracy: 0.4437 - val_loss: 2.4721\n",
      "Epoch 5/50\n",
      "\u001b[1m808/808\u001b[0m \u001b[32m━━━━━━━━━━━━━━━━━━━━\u001b[0m\u001b[37m\u001b[0m \u001b[1m830s\u001b[0m 1s/step - accuracy: 0.8000 - loss: 0.7074 - val_accuracy: 0.4498 - val_loss: 2.9528\n",
      "Epoch 6/50\n",
      "\u001b[1m808/808\u001b[0m \u001b[32m━━━━━━━━━━━━━━━━━━━━\u001b[0m\u001b[37m\u001b[0m \u001b[1m826s\u001b[0m 1s/step - accuracy: 0.8146 - loss: 0.6794 - val_accuracy: 0.4651 - val_loss: 2.3580\n"
     ]
    }
   ],
   "source": [
    "from tensorflow.keras.callbacks import EarlyStopping\n",
    "\n",
    "early_stop = EarlyStopping(\n",
    "    monitor='val_accuracy',\n",
    "    patience=3,\n",
    "    restore_best_weights=True\n",
    ")\n",
    "\n",
    "convnextt.trainable = True  # Unfreeze the ConvNeXt base\n",
    "\n",
    "model.compile(\n",
    "    optimizer=tf.keras.optimizers.Adam(learning_rate=1e-5),  # Lower LR for fine-tuning\n",
    "    loss=\"categorical_crossentropy\",\n",
    "    metrics=[\"accuracy\"]\n",
    ")\n",
    "\n",
    "history_finetune = model.fit(\n",
    "    train_generator,\n",
    "    validation_data=test_generator,\n",
    "    epochs=5,\n",
    "    callbacks = [early_stop]\n",
    ")"
   ]
  },
  {
   "cell_type": "markdown",
   "metadata": {},
   "source": [
    "# Prediction"
   ]
  },
  {
   "cell_type": "code",
   "execution_count": 7,
   "metadata": {
    "execution": {
     "iopub.execute_input": "2025-07-09T19:21:07.413313Z",
     "iopub.status.busy": "2025-07-09T19:21:07.412856Z",
     "iopub.status.idle": "2025-07-09T19:21:47.896816Z",
     "shell.execute_reply": "2025-07-09T19:21:47.895934Z",
     "shell.execute_reply.started": "2025-07-09T19:21:07.413271Z"
    },
    "trusted": true
   },
   "outputs": [
    {
     "name": "stdout",
     "output_type": "stream",
     "text": [
      "\u001b[1m209/209\u001b[0m \u001b[32m━━━━━━━━━━━━━━━━━━━━\u001b[0m\u001b[37m\u001b[0m \u001b[1m40s\u001b[0m 192ms/step - accuracy: 0.6046 - loss: 1.5160\n",
      "Test accuracy: 0.60\n"
     ]
    }
   ],
   "source": [
    "loss, accuracy = model.evaluate(test_generator)\n",
    "print(f'Test accuracy: {accuracy:.2f}')"
   ]
  },
  {
   "cell_type": "markdown",
   "metadata": {},
   "source": [
    "# Saving model"
   ]
  },
  {
   "cell_type": "code",
   "execution_count": 8,
   "metadata": {
    "execution": {
     "iopub.execute_input": "2025-07-09T19:21:47.898490Z",
     "iopub.status.busy": "2025-07-09T19:21:47.898221Z",
     "iopub.status.idle": "2025-07-09T19:21:48.026320Z",
     "shell.execute_reply": "2025-07-09T19:21:48.025328Z",
     "shell.execute_reply.started": "2025-07-09T19:21:47.898467Z"
    },
    "trusted": true
   },
   "outputs": [],
   "source": [
    "model.save(\"convnext_model.keras\")"
   ]
  },
  {
   "cell_type": "markdown",
   "metadata": {},
   "source": [
    "# Single image prediction"
   ]
  },
  {
   "cell_type": "code",
   "execution_count": 9,
   "metadata": {
    "execution": {
     "iopub.execute_input": "2025-07-09T19:21:48.027723Z",
     "iopub.status.busy": "2025-07-09T19:21:48.027419Z",
     "iopub.status.idle": "2025-07-09T19:21:48.032358Z",
     "shell.execute_reply": "2025-07-09T19:21:48.031373Z",
     "shell.execute_reply.started": "2025-07-09T19:21:48.027695Z"
    },
    "trusted": true
   },
   "outputs": [],
   "source": [
    "import numpy as np\n",
    "from tensorflow.keras.preprocessing import image\n",
    "import os"
   ]
  },
  {
   "cell_type": "code",
   "execution_count": 10,
   "metadata": {
    "execution": {
     "iopub.execute_input": "2025-07-09T19:21:48.033918Z",
     "iopub.status.busy": "2025-07-09T19:21:48.033297Z",
     "iopub.status.idle": "2025-07-09T19:21:48.413332Z",
     "shell.execute_reply": "2025-07-09T19:21:48.411902Z",
     "shell.execute_reply.started": "2025-07-09T19:21:48.033889Z"
    },
    "trusted": true
   },
   "outputs": [
    {
     "ename": "NameError",
     "evalue": "name 'class_names' is not defined",
     "output_type": "error",
     "traceback": [
      "\u001b[0;31m---------------------------------------------------------------------------\u001b[0m",
      "\u001b[0;31mNameError\u001b[0m                                 Traceback (most recent call last)",
      "\u001b[0;32m/tmp/ipykernel_36/3188680744.py\u001b[0m in \u001b[0;36m<cell line: 0>\u001b[0;34m()\u001b[0m\n\u001b[0;32m----> 1\u001b[0;31m \u001b[0mprint\u001b[0m\u001b[0;34m(\u001b[0m\u001b[0mclass_names\u001b[0m\u001b[0;34m)\u001b[0m\u001b[0;34m\u001b[0m\u001b[0;34m\u001b[0m\u001b[0m\n\u001b[0m",
      "\u001b[0;31mNameError\u001b[0m: name 'class_names' is not defined"
     ]
    }
   ],
   "source": [
    "print(class_names)"
   ]
  },
  {
   "cell_type": "code",
   "execution_count": null,
   "metadata": {
    "execution": {
     "iopub.status.busy": "2025-07-09T19:21:48.413948Z",
     "iopub.status.idle": "2025-07-09T19:21:48.414224Z",
     "shell.execute_reply": "2025-07-09T19:21:48.414112Z",
     "shell.execute_reply.started": "2025-07-09T19:21:48.414101Z"
    },
    "trusted": true
   },
   "outputs": [],
   "source": [
    "def predict_image(path):\n",
    "    # Load and preprocess the image\n",
    "    img_path = path  # Replace with your image path\n",
    "    img = image.load_img(img_path, target_size=(224, 224))  # Resize to match input_shape\n",
    "    img_array = image.img_to_array(img)\n",
    "    img_array = img_array / 255.0  # Normalize if you trained with normalized images\n",
    "    img_array = np.expand_dims(img_array, axis=0)  # Add batch dimension\n",
    "    predictions = model.predict(img_array)\n",
    "    predicted_class_index = np.argmax(predictions[0])  # Gets the class with highest probability\n",
    "    train_dir = \"/kaggle/input/tomato/train\"\n",
    "    class_names = sorted(os.listdir(train_dir))      \n",
    "    predicted_class = class_names[predicted_class_index]\n",
    "    print(\"Predicted Class:\", predicted_class)\n",
    "\n"
   ]
  },
  {
   "cell_type": "code",
   "execution_count": null,
   "metadata": {
    "execution": {
     "iopub.status.busy": "2025-07-09T19:21:48.415402Z",
     "iopub.status.idle": "2025-07-09T19:21:48.415665Z",
     "shell.execute_reply": "2025-07-09T19:21:48.415555Z",
     "shell.execute_reply.started": "2025-07-09T19:21:48.415544Z"
    },
    "trusted": true
   },
   "outputs": [],
   "source": [
    "predict_image(\"/kaggle/input/tomato/train/Early_blight/00e7c4b2-3005-4558-9cfa-235e356cb7a8___RS_Erly.B 7844.JPG\")"
   ]
  },
  {
   "cell_type": "code",
   "execution_count": null,
   "metadata": {
    "execution": {
     "iopub.status.busy": "2025-07-09T19:21:48.416660Z",
     "iopub.status.idle": "2025-07-09T19:21:48.417043Z",
     "shell.execute_reply": "2025-07-09T19:21:48.416865Z",
     "shell.execute_reply.started": "2025-07-09T19:21:48.416850Z"
    },
    "trusted": true
   },
   "outputs": [],
   "source": [
    "predict_image(\"/kaggle/input/tomato/valid/powdery_mildew/pm100_change_90.jpg\")"
   ]
  },
  {
   "cell_type": "code",
   "execution_count": null,
   "metadata": {
    "execution": {
     "iopub.status.busy": "2025-07-09T19:21:48.418261Z",
     "iopub.status.idle": "2025-07-09T19:21:48.418584Z",
     "shell.execute_reply": "2025-07-09T19:21:48.418458Z",
     "shell.execute_reply.started": "2025-07-09T19:21:48.418442Z"
    },
    "trusted": true
   },
   "outputs": [],
   "source": [
    "predict_image('/kaggle/input/pest-file/Pest2377.jpg')"
   ]
  }
 ],
 "metadata": {
  "kaggle": {
   "accelerator": "gpu",
   "dataSources": [
    {
     "datasetId": 2577191,
     "sourceId": 4391208,
     "sourceType": "datasetVersion"
    },
    {
     "datasetId": 7833785,
     "sourceId": 12420424,
     "sourceType": "datasetVersion"
    }
   ],
   "dockerImageVersionId": 31090,
   "isGpuEnabled": true,
   "isInternetEnabled": true,
   "language": "python",
   "sourceType": "notebook"
  },
  "kernelspec": {
   "display_name": "venv",
   "language": "python",
   "name": "python3"
  },
  "language_info": {
   "codemirror_mode": {
    "name": "ipython",
    "version": 3
   },
   "file_extension": ".py",
   "mimetype": "text/x-python",
   "name": "python",
   "nbconvert_exporter": "python",
   "pygments_lexer": "ipython3",
   "version": "3.12.3"
  }
 },
 "nbformat": 4,
 "nbformat_minor": 4
}
