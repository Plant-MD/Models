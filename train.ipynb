{
 "cells": [
  {
   "cell_type": "code",
   "execution_count": 7,
   "id": "5c663d2b-2c83-4a96-9b87-fe31459e36f3",
   "metadata": {},
   "outputs": [],
   "source": [
    "import tensorflow as tf\n",
    "import matplotlib.pyplot as plt\n",
    "import pandas as pd\n",
    "import seaborn as sns\n"
   ]
  },
  {
   "cell_type": "code",
   "execution_count": 8,
   "id": "28b82ae8-e46d-4362-a2cc-5008919247a1",
   "metadata": {},
   "outputs": [
    {
     "name": "stdout",
     "output_type": "stream",
     "text": [
      "Found 10669 files belonging to 10 classes.\n"
     ]
    }
   ],
   "source": [
    "import tensorflow as tf\n",
    "training_set = tf.keras.utils.image_dataset_from_directory(\n",
    "   'train',\n",
    "    labels=\"inferred\",\n",
    "    label_mode=\"categorical\",\n",
    "    class_names=None,\n",
    "    color_mode=\"rgb\",\n",
    "    batch_size=32,\n",
    "    image_size=(128, 128),\n",
    "    shuffle=True,\n",
    "    seed=None,\n",
    "    validation_split=None,\n",
    "    subset=None,\n",
    "    interpolation=\"bilinear\",\n",
    "    follow_links=False,\n",
    "    crop_to_aspect_ratio=False,\n",
    "    pad_to_aspect_ratio=False,\n",
    "    data_format=None,\n",
    "    verbose=True,\n",
    ")"
   ]
  },
  {
   "cell_type": "code",
   "execution_count": 9,
   "id": "48d3374f-46e8-45a9-87ae-dc540f0e1978",
   "metadata": {},
   "outputs": [
    {
     "name": "stdout",
     "output_type": "stream",
     "text": [
      "Found 5342 files belonging to 10 classes.\n"
     ]
    }
   ],
   "source": [
    "import tensorflow as tf\n",
    "validation_set = tf.keras.utils.image_dataset_from_directory(\n",
    "   'val',\n",
    "    labels=\"inferred\",\n",
    "    label_mode=\"categorical\",\n",
    "    class_names=None,\n",
    "    color_mode=\"rgb\",\n",
    "    batch_size=32,\n",
    "    image_size=(128, 128),\n",
    "    shuffle=True,\n",
    "    seed=None,\n",
    "    validation_split=None,\n",
    "    subset=None,\n",
    "    interpolation=\"bilinear\",\n",
    "    follow_links=False,\n",
    "    crop_to_aspect_ratio=False,\n",
    "    pad_to_aspect_ratio=False,\n",
    "    data_format=None,\n",
    "    verbose=True,\n",
    ")"
   ]
  },
  {
   "cell_type": "code",
   "execution_count": 13,
   "id": "3ee2e1bb-9293-452b-b5ef-9e95a229fa2c",
   "metadata": {},
   "outputs": [
    {
     "data": {
      "text/plain": [
       "<_PrefetchDataset element_spec=(TensorSpec(shape=(None, 128, 128, 3), dtype=tf.float32, name=None), TensorSpec(shape=(None, 10), dtype=tf.float32, name=None))>"
      ]
     },
     "execution_count": 13,
     "metadata": {},
     "output_type": "execute_result"
    }
   ],
   "source": [
    "training_set\n",
    "\n"
   ]
  },
  {
   "cell_type": "code",
   "execution_count": 11,
   "id": "e3e7cdc8-ae54-4fa2-94ad-5290a6fa0664",
   "metadata": {
    "scrolled": true
   },
   "outputs": [
    {
     "data": {
      "text/html": [
       "<pre style=\"white-space:pre;overflow-x:auto;line-height:normal;font-family:Menlo,'DejaVu Sans Mono',consolas,'Courier New',monospace\"><span style=\"font-weight: bold\">Model: \"sequential\"</span>\n",
       "</pre>\n"
      ],
      "text/plain": [
       "\u001b[1mModel: \"sequential\"\u001b[0m\n"
      ]
     },
     "metadata": {},
     "output_type": "display_data"
    },
    {
     "data": {
      "text/html": [
       "<pre style=\"white-space:pre;overflow-x:auto;line-height:normal;font-family:Menlo,'DejaVu Sans Mono',consolas,'Courier New',monospace\">┏━━━━━━━━━━━━━━━━━━━━━━━━━━━━━━━━━┳━━━━━━━━━━━━━━━━━━━━━━━━┳━━━━━━━━━━━━━━━┓\n",
       "┃<span style=\"font-weight: bold\"> Layer (type)                    </span>┃<span style=\"font-weight: bold\"> Output Shape           </span>┃<span style=\"font-weight: bold\">       Param # </span>┃\n",
       "┡━━━━━━━━━━━━━━━━━━━━━━━━━━━━━━━━━╇━━━━━━━━━━━━━━━━━━━━━━━━╇━━━━━━━━━━━━━━━┩\n",
       "│ conv2d (<span style=\"color: #0087ff; text-decoration-color: #0087ff\">Conv2D</span>)                 │ (<span style=\"color: #00d7ff; text-decoration-color: #00d7ff\">None</span>, <span style=\"color: #00af00; text-decoration-color: #00af00\">128</span>, <span style=\"color: #00af00; text-decoration-color: #00af00\">128</span>, <span style=\"color: #00af00; text-decoration-color: #00af00\">32</span>)   │           <span style=\"color: #00af00; text-decoration-color: #00af00\">896</span> │\n",
       "├─────────────────────────────────┼────────────────────────┼───────────────┤\n",
       "│ conv2d_1 (<span style=\"color: #0087ff; text-decoration-color: #0087ff\">Conv2D</span>)               │ (<span style=\"color: #00d7ff; text-decoration-color: #00d7ff\">None</span>, <span style=\"color: #00af00; text-decoration-color: #00af00\">128</span>, <span style=\"color: #00af00; text-decoration-color: #00af00\">128</span>, <span style=\"color: #00af00; text-decoration-color: #00af00\">32</span>)   │         <span style=\"color: #00af00; text-decoration-color: #00af00\">9,248</span> │\n",
       "├─────────────────────────────────┼────────────────────────┼───────────────┤\n",
       "│ conv2d_2 (<span style=\"color: #0087ff; text-decoration-color: #0087ff\">Conv2D</span>)               │ (<span style=\"color: #00d7ff; text-decoration-color: #00d7ff\">None</span>, <span style=\"color: #00af00; text-decoration-color: #00af00\">128</span>, <span style=\"color: #00af00; text-decoration-color: #00af00\">128</span>, <span style=\"color: #00af00; text-decoration-color: #00af00\">32</span>)   │         <span style=\"color: #00af00; text-decoration-color: #00af00\">9,248</span> │\n",
       "├─────────────────────────────────┼────────────────────────┼───────────────┤\n",
       "│ conv2d_3 (<span style=\"color: #0087ff; text-decoration-color: #0087ff\">Conv2D</span>)               │ (<span style=\"color: #00d7ff; text-decoration-color: #00d7ff\">None</span>, <span style=\"color: #00af00; text-decoration-color: #00af00\">128</span>, <span style=\"color: #00af00; text-decoration-color: #00af00\">128</span>, <span style=\"color: #00af00; text-decoration-color: #00af00\">32</span>)   │         <span style=\"color: #00af00; text-decoration-color: #00af00\">9,248</span> │\n",
       "├─────────────────────────────────┼────────────────────────┼───────────────┤\n",
       "│ max_pooling2d (<span style=\"color: #0087ff; text-decoration-color: #0087ff\">MaxPooling2D</span>)    │ (<span style=\"color: #00d7ff; text-decoration-color: #00d7ff\">None</span>, <span style=\"color: #00af00; text-decoration-color: #00af00\">64</span>, <span style=\"color: #00af00; text-decoration-color: #00af00\">64</span>, <span style=\"color: #00af00; text-decoration-color: #00af00\">32</span>)     │             <span style=\"color: #00af00; text-decoration-color: #00af00\">0</span> │\n",
       "├─────────────────────────────────┼────────────────────────┼───────────────┤\n",
       "│ conv2d_4 (<span style=\"color: #0087ff; text-decoration-color: #0087ff\">Conv2D</span>)               │ (<span style=\"color: #00d7ff; text-decoration-color: #00d7ff\">None</span>, <span style=\"color: #00af00; text-decoration-color: #00af00\">64</span>, <span style=\"color: #00af00; text-decoration-color: #00af00\">64</span>, <span style=\"color: #00af00; text-decoration-color: #00af00\">64</span>)     │        <span style=\"color: #00af00; text-decoration-color: #00af00\">18,496</span> │\n",
       "├─────────────────────────────────┼────────────────────────┼───────────────┤\n",
       "│ conv2d_5 (<span style=\"color: #0087ff; text-decoration-color: #0087ff\">Conv2D</span>)               │ (<span style=\"color: #00d7ff; text-decoration-color: #00d7ff\">None</span>, <span style=\"color: #00af00; text-decoration-color: #00af00\">64</span>, <span style=\"color: #00af00; text-decoration-color: #00af00\">64</span>, <span style=\"color: #00af00; text-decoration-color: #00af00\">64</span>)     │        <span style=\"color: #00af00; text-decoration-color: #00af00\">36,928</span> │\n",
       "├─────────────────────────────────┼────────────────────────┼───────────────┤\n",
       "│ conv2d_6 (<span style=\"color: #0087ff; text-decoration-color: #0087ff\">Conv2D</span>)               │ (<span style=\"color: #00d7ff; text-decoration-color: #00d7ff\">None</span>, <span style=\"color: #00af00; text-decoration-color: #00af00\">64</span>, <span style=\"color: #00af00; text-decoration-color: #00af00\">64</span>, <span style=\"color: #00af00; text-decoration-color: #00af00\">64</span>)     │        <span style=\"color: #00af00; text-decoration-color: #00af00\">36,928</span> │\n",
       "├─────────────────────────────────┼────────────────────────┼───────────────┤\n",
       "│ conv2d_7 (<span style=\"color: #0087ff; text-decoration-color: #0087ff\">Conv2D</span>)               │ (<span style=\"color: #00d7ff; text-decoration-color: #00d7ff\">None</span>, <span style=\"color: #00af00; text-decoration-color: #00af00\">64</span>, <span style=\"color: #00af00; text-decoration-color: #00af00\">64</span>, <span style=\"color: #00af00; text-decoration-color: #00af00\">64</span>)     │        <span style=\"color: #00af00; text-decoration-color: #00af00\">36,928</span> │\n",
       "├─────────────────────────────────┼────────────────────────┼───────────────┤\n",
       "│ max_pooling2d_1 (<span style=\"color: #0087ff; text-decoration-color: #0087ff\">MaxPooling2D</span>)  │ (<span style=\"color: #00d7ff; text-decoration-color: #00d7ff\">None</span>, <span style=\"color: #00af00; text-decoration-color: #00af00\">32</span>, <span style=\"color: #00af00; text-decoration-color: #00af00\">32</span>, <span style=\"color: #00af00; text-decoration-color: #00af00\">64</span>)     │             <span style=\"color: #00af00; text-decoration-color: #00af00\">0</span> │\n",
       "├─────────────────────────────────┼────────────────────────┼───────────────┤\n",
       "│ conv2d_8 (<span style=\"color: #0087ff; text-decoration-color: #0087ff\">Conv2D</span>)               │ (<span style=\"color: #00d7ff; text-decoration-color: #00d7ff\">None</span>, <span style=\"color: #00af00; text-decoration-color: #00af00\">32</span>, <span style=\"color: #00af00; text-decoration-color: #00af00\">32</span>, <span style=\"color: #00af00; text-decoration-color: #00af00\">128</span>)    │        <span style=\"color: #00af00; text-decoration-color: #00af00\">73,856</span> │\n",
       "├─────────────────────────────────┼────────────────────────┼───────────────┤\n",
       "│ conv2d_9 (<span style=\"color: #0087ff; text-decoration-color: #0087ff\">Conv2D</span>)               │ (<span style=\"color: #00d7ff; text-decoration-color: #00d7ff\">None</span>, <span style=\"color: #00af00; text-decoration-color: #00af00\">32</span>, <span style=\"color: #00af00; text-decoration-color: #00af00\">32</span>, <span style=\"color: #00af00; text-decoration-color: #00af00\">128</span>)    │       <span style=\"color: #00af00; text-decoration-color: #00af00\">147,584</span> │\n",
       "├─────────────────────────────────┼────────────────────────┼───────────────┤\n",
       "│ max_pooling2d_2 (<span style=\"color: #0087ff; text-decoration-color: #0087ff\">MaxPooling2D</span>)  │ (<span style=\"color: #00d7ff; text-decoration-color: #00d7ff\">None</span>, <span style=\"color: #00af00; text-decoration-color: #00af00\">16</span>, <span style=\"color: #00af00; text-decoration-color: #00af00\">16</span>, <span style=\"color: #00af00; text-decoration-color: #00af00\">128</span>)    │             <span style=\"color: #00af00; text-decoration-color: #00af00\">0</span> │\n",
       "├─────────────────────────────────┼────────────────────────┼───────────────┤\n",
       "│ conv2d_10 (<span style=\"color: #0087ff; text-decoration-color: #0087ff\">Conv2D</span>)              │ (<span style=\"color: #00d7ff; text-decoration-color: #00d7ff\">None</span>, <span style=\"color: #00af00; text-decoration-color: #00af00\">16</span>, <span style=\"color: #00af00; text-decoration-color: #00af00\">16</span>, <span style=\"color: #00af00; text-decoration-color: #00af00\">256</span>)    │       <span style=\"color: #00af00; text-decoration-color: #00af00\">295,168</span> │\n",
       "├─────────────────────────────────┼────────────────────────┼───────────────┤\n",
       "│ conv2d_11 (<span style=\"color: #0087ff; text-decoration-color: #0087ff\">Conv2D</span>)              │ (<span style=\"color: #00d7ff; text-decoration-color: #00d7ff\">None</span>, <span style=\"color: #00af00; text-decoration-color: #00af00\">16</span>, <span style=\"color: #00af00; text-decoration-color: #00af00\">16</span>, <span style=\"color: #00af00; text-decoration-color: #00af00\">256</span>)    │       <span style=\"color: #00af00; text-decoration-color: #00af00\">590,080</span> │\n",
       "├─────────────────────────────────┼────────────────────────┼───────────────┤\n",
       "│ max_pooling2d_3 (<span style=\"color: #0087ff; text-decoration-color: #0087ff\">MaxPooling2D</span>)  │ (<span style=\"color: #00d7ff; text-decoration-color: #00d7ff\">None</span>, <span style=\"color: #00af00; text-decoration-color: #00af00\">8</span>, <span style=\"color: #00af00; text-decoration-color: #00af00\">8</span>, <span style=\"color: #00af00; text-decoration-color: #00af00\">256</span>)      │             <span style=\"color: #00af00; text-decoration-color: #00af00\">0</span> │\n",
       "├─────────────────────────────────┼────────────────────────┼───────────────┤\n",
       "│ flatten (<span style=\"color: #0087ff; text-decoration-color: #0087ff\">Flatten</span>)               │ (<span style=\"color: #00d7ff; text-decoration-color: #00d7ff\">None</span>, <span style=\"color: #00af00; text-decoration-color: #00af00\">16384</span>)          │             <span style=\"color: #00af00; text-decoration-color: #00af00\">0</span> │\n",
       "├─────────────────────────────────┼────────────────────────┼───────────────┤\n",
       "│ dense (<span style=\"color: #0087ff; text-decoration-color: #0087ff\">Dense</span>)                   │ (<span style=\"color: #00d7ff; text-decoration-color: #00d7ff\">None</span>, <span style=\"color: #00af00; text-decoration-color: #00af00\">1024</span>)           │    <span style=\"color: #00af00; text-decoration-color: #00af00\">16,778,240</span> │\n",
       "├─────────────────────────────────┼────────────────────────┼───────────────┤\n",
       "│ dense_1 (<span style=\"color: #0087ff; text-decoration-color: #0087ff\">Dense</span>)                 │ (<span style=\"color: #00d7ff; text-decoration-color: #00d7ff\">None</span>, <span style=\"color: #00af00; text-decoration-color: #00af00\">10</span>)             │        <span style=\"color: #00af00; text-decoration-color: #00af00\">10,250</span> │\n",
       "└─────────────────────────────────┴────────────────────────┴───────────────┘\n",
       "</pre>\n"
      ],
      "text/plain": [
       "┏━━━━━━━━━━━━━━━━━━━━━━━━━━━━━━━━━┳━━━━━━━━━━━━━━━━━━━━━━━━┳━━━━━━━━━━━━━━━┓\n",
       "┃\u001b[1m \u001b[0m\u001b[1mLayer (type)                   \u001b[0m\u001b[1m \u001b[0m┃\u001b[1m \u001b[0m\u001b[1mOutput Shape          \u001b[0m\u001b[1m \u001b[0m┃\u001b[1m \u001b[0m\u001b[1m      Param #\u001b[0m\u001b[1m \u001b[0m┃\n",
       "┡━━━━━━━━━━━━━━━━━━━━━━━━━━━━━━━━━╇━━━━━━━━━━━━━━━━━━━━━━━━╇━━━━━━━━━━━━━━━┩\n",
       "│ conv2d (\u001b[38;5;33mConv2D\u001b[0m)                 │ (\u001b[38;5;45mNone\u001b[0m, \u001b[38;5;34m128\u001b[0m, \u001b[38;5;34m128\u001b[0m, \u001b[38;5;34m32\u001b[0m)   │           \u001b[38;5;34m896\u001b[0m │\n",
       "├─────────────────────────────────┼────────────────────────┼───────────────┤\n",
       "│ conv2d_1 (\u001b[38;5;33mConv2D\u001b[0m)               │ (\u001b[38;5;45mNone\u001b[0m, \u001b[38;5;34m128\u001b[0m, \u001b[38;5;34m128\u001b[0m, \u001b[38;5;34m32\u001b[0m)   │         \u001b[38;5;34m9,248\u001b[0m │\n",
       "├─────────────────────────────────┼────────────────────────┼───────────────┤\n",
       "│ conv2d_2 (\u001b[38;5;33mConv2D\u001b[0m)               │ (\u001b[38;5;45mNone\u001b[0m, \u001b[38;5;34m128\u001b[0m, \u001b[38;5;34m128\u001b[0m, \u001b[38;5;34m32\u001b[0m)   │         \u001b[38;5;34m9,248\u001b[0m │\n",
       "├─────────────────────────────────┼────────────────────────┼───────────────┤\n",
       "│ conv2d_3 (\u001b[38;5;33mConv2D\u001b[0m)               │ (\u001b[38;5;45mNone\u001b[0m, \u001b[38;5;34m128\u001b[0m, \u001b[38;5;34m128\u001b[0m, \u001b[38;5;34m32\u001b[0m)   │         \u001b[38;5;34m9,248\u001b[0m │\n",
       "├─────────────────────────────────┼────────────────────────┼───────────────┤\n",
       "│ max_pooling2d (\u001b[38;5;33mMaxPooling2D\u001b[0m)    │ (\u001b[38;5;45mNone\u001b[0m, \u001b[38;5;34m64\u001b[0m, \u001b[38;5;34m64\u001b[0m, \u001b[38;5;34m32\u001b[0m)     │             \u001b[38;5;34m0\u001b[0m │\n",
       "├─────────────────────────────────┼────────────────────────┼───────────────┤\n",
       "│ conv2d_4 (\u001b[38;5;33mConv2D\u001b[0m)               │ (\u001b[38;5;45mNone\u001b[0m, \u001b[38;5;34m64\u001b[0m, \u001b[38;5;34m64\u001b[0m, \u001b[38;5;34m64\u001b[0m)     │        \u001b[38;5;34m18,496\u001b[0m │\n",
       "├─────────────────────────────────┼────────────────────────┼───────────────┤\n",
       "│ conv2d_5 (\u001b[38;5;33mConv2D\u001b[0m)               │ (\u001b[38;5;45mNone\u001b[0m, \u001b[38;5;34m64\u001b[0m, \u001b[38;5;34m64\u001b[0m, \u001b[38;5;34m64\u001b[0m)     │        \u001b[38;5;34m36,928\u001b[0m │\n",
       "├─────────────────────────────────┼────────────────────────┼───────────────┤\n",
       "│ conv2d_6 (\u001b[38;5;33mConv2D\u001b[0m)               │ (\u001b[38;5;45mNone\u001b[0m, \u001b[38;5;34m64\u001b[0m, \u001b[38;5;34m64\u001b[0m, \u001b[38;5;34m64\u001b[0m)     │        \u001b[38;5;34m36,928\u001b[0m │\n",
       "├─────────────────────────────────┼────────────────────────┼───────────────┤\n",
       "│ conv2d_7 (\u001b[38;5;33mConv2D\u001b[0m)               │ (\u001b[38;5;45mNone\u001b[0m, \u001b[38;5;34m64\u001b[0m, \u001b[38;5;34m64\u001b[0m, \u001b[38;5;34m64\u001b[0m)     │        \u001b[38;5;34m36,928\u001b[0m │\n",
       "├─────────────────────────────────┼────────────────────────┼───────────────┤\n",
       "│ max_pooling2d_1 (\u001b[38;5;33mMaxPooling2D\u001b[0m)  │ (\u001b[38;5;45mNone\u001b[0m, \u001b[38;5;34m32\u001b[0m, \u001b[38;5;34m32\u001b[0m, \u001b[38;5;34m64\u001b[0m)     │             \u001b[38;5;34m0\u001b[0m │\n",
       "├─────────────────────────────────┼────────────────────────┼───────────────┤\n",
       "│ conv2d_8 (\u001b[38;5;33mConv2D\u001b[0m)               │ (\u001b[38;5;45mNone\u001b[0m, \u001b[38;5;34m32\u001b[0m, \u001b[38;5;34m32\u001b[0m, \u001b[38;5;34m128\u001b[0m)    │        \u001b[38;5;34m73,856\u001b[0m │\n",
       "├─────────────────────────────────┼────────────────────────┼───────────────┤\n",
       "│ conv2d_9 (\u001b[38;5;33mConv2D\u001b[0m)               │ (\u001b[38;5;45mNone\u001b[0m, \u001b[38;5;34m32\u001b[0m, \u001b[38;5;34m32\u001b[0m, \u001b[38;5;34m128\u001b[0m)    │       \u001b[38;5;34m147,584\u001b[0m │\n",
       "├─────────────────────────────────┼────────────────────────┼───────────────┤\n",
       "│ max_pooling2d_2 (\u001b[38;5;33mMaxPooling2D\u001b[0m)  │ (\u001b[38;5;45mNone\u001b[0m, \u001b[38;5;34m16\u001b[0m, \u001b[38;5;34m16\u001b[0m, \u001b[38;5;34m128\u001b[0m)    │             \u001b[38;5;34m0\u001b[0m │\n",
       "├─────────────────────────────────┼────────────────────────┼───────────────┤\n",
       "│ conv2d_10 (\u001b[38;5;33mConv2D\u001b[0m)              │ (\u001b[38;5;45mNone\u001b[0m, \u001b[38;5;34m16\u001b[0m, \u001b[38;5;34m16\u001b[0m, \u001b[38;5;34m256\u001b[0m)    │       \u001b[38;5;34m295,168\u001b[0m │\n",
       "├─────────────────────────────────┼────────────────────────┼───────────────┤\n",
       "│ conv2d_11 (\u001b[38;5;33mConv2D\u001b[0m)              │ (\u001b[38;5;45mNone\u001b[0m, \u001b[38;5;34m16\u001b[0m, \u001b[38;5;34m16\u001b[0m, \u001b[38;5;34m256\u001b[0m)    │       \u001b[38;5;34m590,080\u001b[0m │\n",
       "├─────────────────────────────────┼────────────────────────┼───────────────┤\n",
       "│ max_pooling2d_3 (\u001b[38;5;33mMaxPooling2D\u001b[0m)  │ (\u001b[38;5;45mNone\u001b[0m, \u001b[38;5;34m8\u001b[0m, \u001b[38;5;34m8\u001b[0m, \u001b[38;5;34m256\u001b[0m)      │             \u001b[38;5;34m0\u001b[0m │\n",
       "├─────────────────────────────────┼────────────────────────┼───────────────┤\n",
       "│ flatten (\u001b[38;5;33mFlatten\u001b[0m)               │ (\u001b[38;5;45mNone\u001b[0m, \u001b[38;5;34m16384\u001b[0m)          │             \u001b[38;5;34m0\u001b[0m │\n",
       "├─────────────────────────────────┼────────────────────────┼───────────────┤\n",
       "│ dense (\u001b[38;5;33mDense\u001b[0m)                   │ (\u001b[38;5;45mNone\u001b[0m, \u001b[38;5;34m1024\u001b[0m)           │    \u001b[38;5;34m16,778,240\u001b[0m │\n",
       "├─────────────────────────────────┼────────────────────────┼───────────────┤\n",
       "│ dense_1 (\u001b[38;5;33mDense\u001b[0m)                 │ (\u001b[38;5;45mNone\u001b[0m, \u001b[38;5;34m10\u001b[0m)             │        \u001b[38;5;34m10,250\u001b[0m │\n",
       "└─────────────────────────────────┴────────────────────────┴───────────────┘\n"
      ]
     },
     "metadata": {},
     "output_type": "display_data"
    },
    {
     "data": {
      "text/html": [
       "<pre style=\"white-space:pre;overflow-x:auto;line-height:normal;font-family:Menlo,'DejaVu Sans Mono',consolas,'Courier New',monospace\"><span style=\"font-weight: bold\"> Total params: </span><span style=\"color: #00af00; text-decoration-color: #00af00\">36,106,198</span> (137.73 MB)\n",
       "</pre>\n"
      ],
      "text/plain": [
       "\u001b[1m Total params: \u001b[0m\u001b[38;5;34m36,106,198\u001b[0m (137.73 MB)\n"
      ]
     },
     "metadata": {},
     "output_type": "display_data"
    },
    {
     "data": {
      "text/html": [
       "<pre style=\"white-space:pre;overflow-x:auto;line-height:normal;font-family:Menlo,'DejaVu Sans Mono',consolas,'Courier New',monospace\"><span style=\"font-weight: bold\"> Trainable params: </span><span style=\"color: #00af00; text-decoration-color: #00af00\">18,053,098</span> (68.87 MB)\n",
       "</pre>\n"
      ],
      "text/plain": [
       "\u001b[1m Trainable params: \u001b[0m\u001b[38;5;34m18,053,098\u001b[0m (68.87 MB)\n"
      ]
     },
     "metadata": {},
     "output_type": "display_data"
    },
    {
     "data": {
      "text/html": [
       "<pre style=\"white-space:pre;overflow-x:auto;line-height:normal;font-family:Menlo,'DejaVu Sans Mono',consolas,'Courier New',monospace\"><span style=\"font-weight: bold\"> Non-trainable params: </span><span style=\"color: #00af00; text-decoration-color: #00af00\">0</span> (0.00 B)\n",
       "</pre>\n"
      ],
      "text/plain": [
       "\u001b[1m Non-trainable params: \u001b[0m\u001b[38;5;34m0\u001b[0m (0.00 B)\n"
      ]
     },
     "metadata": {},
     "output_type": "display_data"
    },
    {
     "data": {
      "text/html": [
       "<pre style=\"white-space:pre;overflow-x:auto;line-height:normal;font-family:Menlo,'DejaVu Sans Mono',consolas,'Courier New',monospace\"><span style=\"font-weight: bold\"> Optimizer params: </span><span style=\"color: #00af00; text-decoration-color: #00af00\">18,053,100</span> (68.87 MB)\n",
       "</pre>\n"
      ],
      "text/plain": [
       "\u001b[1m Optimizer params: \u001b[0m\u001b[38;5;34m18,053,100\u001b[0m (68.87 MB)\n"
      ]
     },
     "metadata": {},
     "output_type": "display_data"
    }
   ],
   "source": [
    "from tensorflow.keras.models import load_model\n",
    "\n",
    "\n",
    "model = load_model(\"sequential_cnn_model.keras\")\n",
    "\n",
    "model.summary()"
   ]
  },
  {
   "cell_type": "code",
   "execution_count": 15,
   "id": "14120445-fcb7-4d35-a5ec-4438acdb2a80",
   "metadata": {},
   "outputs": [
    {
     "name": "stdout",
     "output_type": "stream",
     "text": [
      "tf.Tensor(\n",
      "[[[[140.75 134.75 160.75]\n",
      "   [143.75 137.75 163.75]\n",
      "   [139.5  133.5  159.5 ]\n",
      "   ...\n",
      "   [110.   105.   128.  ]\n",
      "   [111.   106.   129.  ]\n",
      "   [111.   106.   129.  ]]\n",
      "\n",
      "  [[143.25 137.25 163.25]\n",
      "   [140.25 134.25 160.25]\n",
      "   [142.   136.   162.  ]\n",
      "   ...\n",
      "   [113.   108.   131.  ]\n",
      "   [112.5  107.5  130.5 ]\n",
      "   [116.5  111.5  134.5 ]]\n",
      "\n",
      "  [[147.5  141.5  167.5 ]\n",
      "   [148.5  142.5  168.5 ]\n",
      "   [146.75 140.75 166.75]\n",
      "   ...\n",
      "   [113.   108.   131.  ]\n",
      "   [110.25 105.25 128.25]\n",
      "   [108.25 103.25 126.25]]\n",
      "\n",
      "  ...\n",
      "\n",
      "  [[115.   105.   129.  ]\n",
      "   [112.   102.   126.  ]\n",
      "   [113.25 103.25 127.25]\n",
      "   ...\n",
      "   [ 70.5   61.5   82.5 ]\n",
      "   [ 77.5   68.5   89.5 ]\n",
      "   [ 79.75  70.75  91.75]]\n",
      "\n",
      "  [[111.5  101.5  125.5 ]\n",
      "   [116.5  106.5  130.5 ]\n",
      "   [109.25  99.25 123.25]\n",
      "   ...\n",
      "   [ 74.25  65.25  86.25]\n",
      "   [ 73.5   64.5   85.5 ]\n",
      "   [ 68.25  59.25  80.25]]\n",
      "\n",
      "  [[111.25 101.25 125.25]\n",
      "   [114.   104.   128.  ]\n",
      "   [114.75 104.75 128.75]\n",
      "   ...\n",
      "   [ 76.75  67.75  88.75]\n",
      "   [ 75.5   66.5   87.5 ]\n",
      "   [ 72.75  63.75  84.75]]]\n",
      "\n",
      "\n",
      " [[[174.25 163.25 157.25]\n",
      "   [180.5  169.5  163.5 ]\n",
      "   [172.   161.   155.  ]\n",
      "   ...\n",
      "   [129.25 110.25 104.25]\n",
      "   [128.75 109.75 103.75]\n",
      "   [135.25 116.25 110.25]]\n",
      "\n",
      "  [[171.5  160.5  154.5 ]\n",
      "   [179.25 168.25 162.25]\n",
      "   [175.25 164.25 158.25]\n",
      "   ...\n",
      "   [122.5  103.5   97.5 ]\n",
      "   [119.5  100.5   94.5 ]\n",
      "   [133.75 114.75 108.75]]\n",
      "\n",
      "  [[176.5  165.5  159.5 ]\n",
      "   [171.25 160.25 154.25]\n",
      "   [177.   166.   160.  ]\n",
      "   ...\n",
      "   [124.25 105.25  99.25]\n",
      "   [120.   101.    95.  ]\n",
      "   [135.   116.   110.  ]]\n",
      "\n",
      "  ...\n",
      "\n",
      "  [[184.5  171.5  162.5 ]\n",
      "   [184.75 171.75 162.75]\n",
      "   [184.5  171.5  162.5 ]\n",
      "   ...\n",
      "   [165.25 144.25 139.25]\n",
      "   [160.25 139.25 134.25]\n",
      "   [190.5  169.5  164.5 ]]\n",
      "\n",
      "  [[183.   170.   161.  ]\n",
      "   [185.25 172.25 163.25]\n",
      "   [179.   166.   157.  ]\n",
      "   ...\n",
      "   [149.   128.   123.  ]\n",
      "   [147.   126.   121.  ]\n",
      "   [132.5  111.5  106.5 ]]\n",
      "\n",
      "  [[184.25 171.25 162.25]\n",
      "   [189.5  176.5  167.5 ]\n",
      "   [181.25 168.25 159.25]\n",
      "   ...\n",
      "   [131.5  110.5  105.5 ]\n",
      "   [144.25 123.25 118.25]\n",
      "   [142.25 121.25 116.25]]]\n",
      "\n",
      "\n",
      " [[[154.   143.   141.  ]\n",
      "   [149.5  138.5  136.5 ]\n",
      "   [159.5  148.5  146.5 ]\n",
      "   ...\n",
      "   [129.5  115.5  112.5 ]\n",
      "   [122.25 108.25 105.25]\n",
      "   [140.5  126.5  123.5 ]]\n",
      "\n",
      "  [[158.5  147.5  145.5 ]\n",
      "   [155.   144.   142.  ]\n",
      "   [161.25 150.25 148.25]\n",
      "   ...\n",
      "   [132.25 118.25 115.25]\n",
      "   [131.5  117.5  114.5 ]\n",
      "   [123.5  109.5  106.5 ]]\n",
      "\n",
      "  [[168.25 157.25 155.25]\n",
      "   [166.75 155.75 153.75]\n",
      "   [167.75 156.75 154.75]\n",
      "   ...\n",
      "   [133.25 119.25 116.25]\n",
      "   [145.   131.   128.  ]\n",
      "   [140.5  126.5  123.5 ]]\n",
      "\n",
      "  ...\n",
      "\n",
      "  [[167.   156.   150.  ]\n",
      "   [172.75 161.75 155.75]\n",
      "   [166.5  155.5  149.5 ]\n",
      "   ...\n",
      "   [124.   111.   103.  ]\n",
      "   [151.25 138.25 130.25]\n",
      "   [152.   139.   131.  ]]\n",
      "\n",
      "  [[169.5  158.5  152.5 ]\n",
      "   [167.75 156.75 150.75]\n",
      "   [160.25 149.25 143.25]\n",
      "   ...\n",
      "   [143.   130.   122.  ]\n",
      "   [139.   126.   118.  ]\n",
      "   [135.   122.   114.  ]]\n",
      "\n",
      "  [[164.5  153.5  147.5 ]\n",
      "   [157.25 146.25 140.25]\n",
      "   [155.25 144.25 138.25]\n",
      "   ...\n",
      "   [148.25 135.25 127.25]\n",
      "   [111.75  98.75  90.75]\n",
      "   [137.5  124.5  116.5 ]]]\n",
      "\n",
      "\n",
      " ...\n",
      "\n",
      "\n",
      " [[[158.25 148.25 172.25]\n",
      "   [161.75 151.75 175.75]\n",
      "   [158.   148.   172.  ]\n",
      "   ...\n",
      "   [143.   134.   155.  ]\n",
      "   [146.5  137.5  158.5 ]\n",
      "   [140.5  131.5  152.5 ]]\n",
      "\n",
      "  [[154.   144.   168.  ]\n",
      "   [157.5  147.5  171.5 ]\n",
      "   [163.   153.   177.  ]\n",
      "   ...\n",
      "   [144.75 135.75 156.75]\n",
      "   [142.5  133.5  154.5 ]\n",
      "   [145.25 136.25 157.25]]\n",
      "\n",
      "  [[155.25 145.25 169.25]\n",
      "   [153.75 143.75 167.75]\n",
      "   [149.75 139.75 163.75]\n",
      "   ...\n",
      "   [148.25 139.25 160.25]\n",
      "   [142.75 133.75 154.75]\n",
      "   [146.   137.   158.  ]]\n",
      "\n",
      "  ...\n",
      "\n",
      "  [[112.75  99.75 117.75]\n",
      "   [114.5  101.5  119.5 ]\n",
      "   [111.25  98.25 116.25]\n",
      "   ...\n",
      "   [120.75 108.75 130.75]\n",
      "   [115.   103.   125.  ]\n",
      "   [115.   103.   125.  ]]\n",
      "\n",
      "  [[117.25 104.25 122.25]\n",
      "   [120.75 107.75 125.75]\n",
      "   [113.5  100.5  118.5 ]\n",
      "   ...\n",
      "   [117.5  105.5  127.5 ]\n",
      "   [112.25 100.25 122.25]\n",
      "   [115.25 103.25 125.25]]\n",
      "\n",
      "  [[115.75 102.75 120.75]\n",
      "   [115.75 102.75 120.75]\n",
      "   [112.    99.   117.  ]\n",
      "   ...\n",
      "   [110.5   98.5  120.5 ]\n",
      "   [111.5   99.5  121.5 ]\n",
      "   [111.75  99.75 121.75]]]\n",
      "\n",
      "\n",
      " [[[148.   152.   151.  ]\n",
      "   [151.5  155.5  154.5 ]\n",
      "   [151.   155.   154.  ]\n",
      "   ...\n",
      "   [143.5  147.5  146.5 ]\n",
      "   [144.75 148.75 147.75]\n",
      "   [145.   149.   148.  ]]\n",
      "\n",
      "  [[141.5  145.5  144.5 ]\n",
      "   [146.25 150.25 149.25]\n",
      "   [149.   153.   152.  ]\n",
      "   ...\n",
      "   [138.25 142.25 141.25]\n",
      "   [140.25 144.25 143.25]\n",
      "   [141.75 145.75 144.75]]\n",
      "\n",
      "  [[143.   147.   146.  ]\n",
      "   [145.75 149.75 148.75]\n",
      "   [145.25 149.25 148.25]\n",
      "   ...\n",
      "   [141.75 145.75 144.75]\n",
      "   [143.   147.   146.  ]\n",
      "   [144.   148.   147.  ]]\n",
      "\n",
      "  ...\n",
      "\n",
      "  [[145.   150.   144.  ]\n",
      "   [146.   151.   145.  ]\n",
      "   [149.25 154.25 148.25]\n",
      "   ...\n",
      "   [146.   151.   145.  ]\n",
      "   [145.75 150.75 144.75]\n",
      "   [145.5  150.5  144.5 ]]\n",
      "\n",
      "  [[146.   151.   145.  ]\n",
      "   [147.   152.   146.  ]\n",
      "   [150.25 155.25 149.25]\n",
      "   ...\n",
      "   [145.   150.   144.  ]\n",
      "   [145.5  150.5  144.5 ]\n",
      "   [145.75 150.75 144.75]]\n",
      "\n",
      "  [[149.75 154.75 148.75]\n",
      "   [148.5  153.5  147.5 ]\n",
      "   [148.5  153.5  147.5 ]\n",
      "   ...\n",
      "   [144.75 149.75 143.75]\n",
      "   [144.25 149.25 143.25]\n",
      "   [143.75 148.75 142.75]]]\n",
      "\n",
      "\n",
      " [[[198.   192.   194.  ]\n",
      "   [201.75 195.75 197.75]\n",
      "   [203.25 197.25 199.25]\n",
      "   ...\n",
      "   [201.25 192.25 193.25]\n",
      "   [201.5  192.5  193.5 ]\n",
      "   [199.5  190.5  191.5 ]]\n",
      "\n",
      "  [[209.5  203.5  205.5 ]\n",
      "   [202.75 196.75 198.75]\n",
      "   [193.5  187.5  189.5 ]\n",
      "   ...\n",
      "   [204.   195.   196.  ]\n",
      "   [195.75 186.75 187.75]\n",
      "   [195.25 186.25 187.25]]\n",
      "\n",
      "  [[196.5  190.5  192.5 ]\n",
      "   [203.25 197.25 199.25]\n",
      "   [212.5  206.5  208.5 ]\n",
      "   ...\n",
      "   [194.25 186.25 184.25]\n",
      "   [200.25 192.25 190.25]\n",
      "   [190.75 182.75 180.75]]\n",
      "\n",
      "  ...\n",
      "\n",
      "  [[170.5  164.5  166.5 ]\n",
      "   [165.25 159.25 161.25]\n",
      "   [170.5  164.5  166.5 ]\n",
      "   ...\n",
      "   [155.   145.   143.  ]\n",
      "   [157.25 147.25 145.25]\n",
      "   [155.5  145.5  143.5 ]]\n",
      "\n",
      "  [[167.   161.   163.  ]\n",
      "   [173.5  167.5  169.5 ]\n",
      "   [170.   164.   166.  ]\n",
      "   ...\n",
      "   [161.75 151.75 149.75]\n",
      "   [155.25 145.25 143.25]\n",
      "   [158.   148.   146.  ]]\n",
      "\n",
      "  [[169.75 163.75 165.75]\n",
      "   [168.   162.   164.  ]\n",
      "   [170.5  164.5  166.5 ]\n",
      "   ...\n",
      "   [162.5  152.5  150.5 ]\n",
      "   [160.   150.   148.  ]\n",
      "   [160.   150.   148.  ]]]], shape=(32, 128, 128, 3), dtype=float32) (32, 128, 128, 3)\n",
      "tf.Tensor(\n",
      "[[[[140.75 134.75 160.75]\n",
      "   [143.75 137.75 163.75]\n",
      "   [139.5  133.5  159.5 ]\n",
      "   ...\n",
      "   [110.   105.   128.  ]\n",
      "   [111.   106.   129.  ]\n",
      "   [111.   106.   129.  ]]\n",
      "\n",
      "  [[143.25 137.25 163.25]\n",
      "   [140.25 134.25 160.25]\n",
      "   [142.   136.   162.  ]\n",
      "   ...\n",
      "   [113.   108.   131.  ]\n",
      "   [112.5  107.5  130.5 ]\n",
      "   [116.5  111.5  134.5 ]]\n",
      "\n",
      "  [[147.5  141.5  167.5 ]\n",
      "   [148.5  142.5  168.5 ]\n",
      "   [146.75 140.75 166.75]\n",
      "   ...\n",
      "   [113.   108.   131.  ]\n",
      "   [110.25 105.25 128.25]\n",
      "   [108.25 103.25 126.25]]\n",
      "\n",
      "  ...\n",
      "\n",
      "  [[115.   105.   129.  ]\n",
      "   [112.   102.   126.  ]\n",
      "   [113.25 103.25 127.25]\n",
      "   ...\n",
      "   [ 70.5   61.5   82.5 ]\n",
      "   [ 77.5   68.5   89.5 ]\n",
      "   [ 79.75  70.75  91.75]]\n",
      "\n",
      "  [[111.5  101.5  125.5 ]\n",
      "   [116.5  106.5  130.5 ]\n",
      "   [109.25  99.25 123.25]\n",
      "   ...\n",
      "   [ 74.25  65.25  86.25]\n",
      "   [ 73.5   64.5   85.5 ]\n",
      "   [ 68.25  59.25  80.25]]\n",
      "\n",
      "  [[111.25 101.25 125.25]\n",
      "   [114.   104.   128.  ]\n",
      "   [114.75 104.75 128.75]\n",
      "   ...\n",
      "   [ 76.75  67.75  88.75]\n",
      "   [ 75.5   66.5   87.5 ]\n",
      "   [ 72.75  63.75  84.75]]]\n",
      "\n",
      "\n",
      " [[[174.25 163.25 157.25]\n",
      "   [180.5  169.5  163.5 ]\n",
      "   [172.   161.   155.  ]\n",
      "   ...\n",
      "   [129.25 110.25 104.25]\n",
      "   [128.75 109.75 103.75]\n",
      "   [135.25 116.25 110.25]]\n",
      "\n",
      "  [[171.5  160.5  154.5 ]\n",
      "   [179.25 168.25 162.25]\n",
      "   [175.25 164.25 158.25]\n",
      "   ...\n",
      "   [122.5  103.5   97.5 ]\n",
      "   [119.5  100.5   94.5 ]\n",
      "   [133.75 114.75 108.75]]\n",
      "\n",
      "  [[176.5  165.5  159.5 ]\n",
      "   [171.25 160.25 154.25]\n",
      "   [177.   166.   160.  ]\n",
      "   ...\n",
      "   [124.25 105.25  99.25]\n",
      "   [120.   101.    95.  ]\n",
      "   [135.   116.   110.  ]]\n",
      "\n",
      "  ...\n",
      "\n",
      "  [[184.5  171.5  162.5 ]\n",
      "   [184.75 171.75 162.75]\n",
      "   [184.5  171.5  162.5 ]\n",
      "   ...\n",
      "   [165.25 144.25 139.25]\n",
      "   [160.25 139.25 134.25]\n",
      "   [190.5  169.5  164.5 ]]\n",
      "\n",
      "  [[183.   170.   161.  ]\n",
      "   [185.25 172.25 163.25]\n",
      "   [179.   166.   157.  ]\n",
      "   ...\n",
      "   [149.   128.   123.  ]\n",
      "   [147.   126.   121.  ]\n",
      "   [132.5  111.5  106.5 ]]\n",
      "\n",
      "  [[184.25 171.25 162.25]\n",
      "   [189.5  176.5  167.5 ]\n",
      "   [181.25 168.25 159.25]\n",
      "   ...\n",
      "   [131.5  110.5  105.5 ]\n",
      "   [144.25 123.25 118.25]\n",
      "   [142.25 121.25 116.25]]]\n",
      "\n",
      "\n",
      " [[[154.   143.   141.  ]\n",
      "   [149.5  138.5  136.5 ]\n",
      "   [159.5  148.5  146.5 ]\n",
      "   ...\n",
      "   [129.5  115.5  112.5 ]\n",
      "   [122.25 108.25 105.25]\n",
      "   [140.5  126.5  123.5 ]]\n",
      "\n",
      "  [[158.5  147.5  145.5 ]\n",
      "   [155.   144.   142.  ]\n",
      "   [161.25 150.25 148.25]\n",
      "   ...\n",
      "   [132.25 118.25 115.25]\n",
      "   [131.5  117.5  114.5 ]\n",
      "   [123.5  109.5  106.5 ]]\n",
      "\n",
      "  [[168.25 157.25 155.25]\n",
      "   [166.75 155.75 153.75]\n",
      "   [167.75 156.75 154.75]\n",
      "   ...\n",
      "   [133.25 119.25 116.25]\n",
      "   [145.   131.   128.  ]\n",
      "   [140.5  126.5  123.5 ]]\n",
      "\n",
      "  ...\n",
      "\n",
      "  [[167.   156.   150.  ]\n",
      "   [172.75 161.75 155.75]\n",
      "   [166.5  155.5  149.5 ]\n",
      "   ...\n",
      "   [124.   111.   103.  ]\n",
      "   [151.25 138.25 130.25]\n",
      "   [152.   139.   131.  ]]\n",
      "\n",
      "  [[169.5  158.5  152.5 ]\n",
      "   [167.75 156.75 150.75]\n",
      "   [160.25 149.25 143.25]\n",
      "   ...\n",
      "   [143.   130.   122.  ]\n",
      "   [139.   126.   118.  ]\n",
      "   [135.   122.   114.  ]]\n",
      "\n",
      "  [[164.5  153.5  147.5 ]\n",
      "   [157.25 146.25 140.25]\n",
      "   [155.25 144.25 138.25]\n",
      "   ...\n",
      "   [148.25 135.25 127.25]\n",
      "   [111.75  98.75  90.75]\n",
      "   [137.5  124.5  116.5 ]]]\n",
      "\n",
      "\n",
      " ...\n",
      "\n",
      "\n",
      " [[[158.25 148.25 172.25]\n",
      "   [161.75 151.75 175.75]\n",
      "   [158.   148.   172.  ]\n",
      "   ...\n",
      "   [143.   134.   155.  ]\n",
      "   [146.5  137.5  158.5 ]\n",
      "   [140.5  131.5  152.5 ]]\n",
      "\n",
      "  [[154.   144.   168.  ]\n",
      "   [157.5  147.5  171.5 ]\n",
      "   [163.   153.   177.  ]\n",
      "   ...\n",
      "   [144.75 135.75 156.75]\n",
      "   [142.5  133.5  154.5 ]\n",
      "   [145.25 136.25 157.25]]\n",
      "\n",
      "  [[155.25 145.25 169.25]\n",
      "   [153.75 143.75 167.75]\n",
      "   [149.75 139.75 163.75]\n",
      "   ...\n",
      "   [148.25 139.25 160.25]\n",
      "   [142.75 133.75 154.75]\n",
      "   [146.   137.   158.  ]]\n",
      "\n",
      "  ...\n",
      "\n",
      "  [[112.75  99.75 117.75]\n",
      "   [114.5  101.5  119.5 ]\n",
      "   [111.25  98.25 116.25]\n",
      "   ...\n",
      "   [120.75 108.75 130.75]\n",
      "   [115.   103.   125.  ]\n",
      "   [115.   103.   125.  ]]\n",
      "\n",
      "  [[117.25 104.25 122.25]\n",
      "   [120.75 107.75 125.75]\n",
      "   [113.5  100.5  118.5 ]\n",
      "   ...\n",
      "   [117.5  105.5  127.5 ]\n",
      "   [112.25 100.25 122.25]\n",
      "   [115.25 103.25 125.25]]\n",
      "\n",
      "  [[115.75 102.75 120.75]\n",
      "   [115.75 102.75 120.75]\n",
      "   [112.    99.   117.  ]\n",
      "   ...\n",
      "   [110.5   98.5  120.5 ]\n",
      "   [111.5   99.5  121.5 ]\n",
      "   [111.75  99.75 121.75]]]\n",
      "\n",
      "\n",
      " [[[148.   152.   151.  ]\n",
      "   [151.5  155.5  154.5 ]\n",
      "   [151.   155.   154.  ]\n",
      "   ...\n",
      "   [143.5  147.5  146.5 ]\n",
      "   [144.75 148.75 147.75]\n",
      "   [145.   149.   148.  ]]\n",
      "\n",
      "  [[141.5  145.5  144.5 ]\n",
      "   [146.25 150.25 149.25]\n",
      "   [149.   153.   152.  ]\n",
      "   ...\n",
      "   [138.25 142.25 141.25]\n",
      "   [140.25 144.25 143.25]\n",
      "   [141.75 145.75 144.75]]\n",
      "\n",
      "  [[143.   147.   146.  ]\n",
      "   [145.75 149.75 148.75]\n",
      "   [145.25 149.25 148.25]\n",
      "   ...\n",
      "   [141.75 145.75 144.75]\n",
      "   [143.   147.   146.  ]\n",
      "   [144.   148.   147.  ]]\n",
      "\n",
      "  ...\n",
      "\n",
      "  [[145.   150.   144.  ]\n",
      "   [146.   151.   145.  ]\n",
      "   [149.25 154.25 148.25]\n",
      "   ...\n",
      "   [146.   151.   145.  ]\n",
      "   [145.75 150.75 144.75]\n",
      "   [145.5  150.5  144.5 ]]\n",
      "\n",
      "  [[146.   151.   145.  ]\n",
      "   [147.   152.   146.  ]\n",
      "   [150.25 155.25 149.25]\n",
      "   ...\n",
      "   [145.   150.   144.  ]\n",
      "   [145.5  150.5  144.5 ]\n",
      "   [145.75 150.75 144.75]]\n",
      "\n",
      "  [[149.75 154.75 148.75]\n",
      "   [148.5  153.5  147.5 ]\n",
      "   [148.5  153.5  147.5 ]\n",
      "   ...\n",
      "   [144.75 149.75 143.75]\n",
      "   [144.25 149.25 143.25]\n",
      "   [143.75 148.75 142.75]]]\n",
      "\n",
      "\n",
      " [[[198.   192.   194.  ]\n",
      "   [201.75 195.75 197.75]\n",
      "   [203.25 197.25 199.25]\n",
      "   ...\n",
      "   [201.25 192.25 193.25]\n",
      "   [201.5  192.5  193.5 ]\n",
      "   [199.5  190.5  191.5 ]]\n",
      "\n",
      "  [[209.5  203.5  205.5 ]\n",
      "   [202.75 196.75 198.75]\n",
      "   [193.5  187.5  189.5 ]\n",
      "   ...\n",
      "   [204.   195.   196.  ]\n",
      "   [195.75 186.75 187.75]\n",
      "   [195.25 186.25 187.25]]\n",
      "\n",
      "  [[196.5  190.5  192.5 ]\n",
      "   [203.25 197.25 199.25]\n",
      "   [212.5  206.5  208.5 ]\n",
      "   ...\n",
      "   [194.25 186.25 184.25]\n",
      "   [200.25 192.25 190.25]\n",
      "   [190.75 182.75 180.75]]\n",
      "\n",
      "  ...\n",
      "\n",
      "  [[170.5  164.5  166.5 ]\n",
      "   [165.25 159.25 161.25]\n",
      "   [170.5  164.5  166.5 ]\n",
      "   ...\n",
      "   [155.   145.   143.  ]\n",
      "   [157.25 147.25 145.25]\n",
      "   [155.5  145.5  143.5 ]]\n",
      "\n",
      "  [[167.   161.   163.  ]\n",
      "   [173.5  167.5  169.5 ]\n",
      "   [170.   164.   166.  ]\n",
      "   ...\n",
      "   [161.75 151.75 149.75]\n",
      "   [155.25 145.25 143.25]\n",
      "   [158.   148.   146.  ]]\n",
      "\n",
      "  [[169.75 163.75 165.75]\n",
      "   [168.   162.   164.  ]\n",
      "   [170.5  164.5  166.5 ]\n",
      "   ...\n",
      "   [162.5  152.5  150.5 ]\n",
      "   [160.   150.   148.  ]\n",
      "   [160.   150.   148.  ]]]], shape=(32, 128, 128, 3), dtype=float32) (32, 10)\n"
     ]
    }
   ],
   "source": [
    "\n",
    "for x,y in training_set:\n",
    "    print(x,x.shape)\n",
    "    print(x,y.shape)\n",
    "    break\n"
   ]
  },
  {
   "cell_type": "code",
   "execution_count": 28,
   "id": "10b4d56b-f85b-4935-b75d-efdc406338d6",
   "metadata": {},
   "outputs": [],
   "source": [
    "from tensorflow.keras.layers import Dense,Conv2D,MaxPool2D,Flatten\n",
    "from tensorflow.keras.models import Sequential"
   ]
  },
  {
   "cell_type": "code",
   "execution_count": 29,
   "id": "b3efd49a-4455-4408-a64a-f767587ffeb3",
   "metadata": {},
   "outputs": [],
   "source": [
    "model=Sequential()"
   ]
  },
  {
   "cell_type": "code",
   "execution_count": 30,
   "id": "8f118387-e866-4ff4-a795-0a73a21bf81b",
   "metadata": {},
   "outputs": [],
   "source": [
    "model.add(Conv2D(filters=32,kernel_size=3,padding='same',activation='relu',input_shape=[128,128,3]))\n",
    "model.add(Conv2D(filters=32,kernel_size=3,padding='same',activation='relu'))\n",
    "model.add(MaxPool2D(pool_size=2,strides=2))\n",
    "          "
   ]
  },
  {
   "cell_type": "code",
   "execution_count": 31,
   "id": "5cd4df2c-bbc1-4abb-8858-258f5d8f258e",
   "metadata": {},
   "outputs": [],
   "source": [
    "model.add(Conv2D(filters=64,kernel_size=3,padding='same',activation='relu',input_shape=[128,128,3]))\n",
    "model.add(Conv2D(filters=64,kernel_size=3,padding='same',activation='relu'))\n",
    "model.add(MaxPool2D(pool_size=2,strides=2))\n",
    "          "
   ]
  },
  {
   "cell_type": "code",
   "execution_count": 32,
   "id": "d4eb480e-0fdc-45a1-ba58-41d5b035b4f2",
   "metadata": {},
   "outputs": [],
   "source": [
    "model.add(Conv2D(filters=128,kernel_size=3,padding='same',activation='relu',input_shape=[128,128,3]))\n",
    "model.add(Conv2D(filters=128,kernel_size=3,padding='same',activation='relu'))\n",
    "model.add(MaxPool2D(pool_size=2,strides=2))\n",
    "          "
   ]
  },
  {
   "cell_type": "code",
   "execution_count": 33,
   "id": "f22abfcf-e7bf-4ff7-a579-f943a6057b4b",
   "metadata": {},
   "outputs": [],
   "source": [
    "model.add(Conv2D(filters=256,kernel_size=3,padding='same',activation='relu',input_shape=[128,128,3]))\n",
    "model.add(Conv2D(filters=256,kernel_size=3,padding='same',activation='relu'))\n",
    "model.add(MaxPool2D(pool_size=2,strides=2))\n",
    "          "
   ]
  },
  {
   "cell_type": "code",
   "execution_count": 34,
   "id": "9745bb0a-74eb-4bcd-adc9-df1c5396c2ee",
   "metadata": {},
   "outputs": [],
   "source": [
    "model.add(Flatten())\n"
   ]
  },
  {
   "cell_type": "markdown",
   "id": "11d7281c-48c4-46e1-a63c-e9748d786cce",
   "metadata": {},
   "source": []
  },
  {
   "cell_type": "code",
   "execution_count": 35,
   "id": "6da0f0aa-b7b2-4651-aa15-c89887d89e31",
   "metadata": {},
   "outputs": [],
   "source": [
    "model.add(Dense(units=1024,activation='relu'))"
   ]
  },
  {
   "cell_type": "markdown",
   "id": "05d3e6b7-dbcc-4cee-a712-6165aacdd504",
   "metadata": {},
   "source": []
  },
  {
   "cell_type": "markdown",
   "id": "c20a3ebc-8cd3-4a1f-9eb0-de1c8435bb89",
   "metadata": {},
   "source": []
  },
  {
   "cell_type": "code",
   "execution_count": 37,
   "id": "a775f560-6bcc-4f7d-b55c-75cb39930e38",
   "metadata": {},
   "outputs": [],
   "source": [
    "model.add(Dense(units=10,activation='softmax'))"
   ]
  },
  {
   "cell_type": "code",
   "execution_count": 38,
   "id": "167e6560-f2fb-4a91-8da7-172ad40928d2",
   "metadata": {},
   "outputs": [],
   "source": [
    "model.compile(optimizer='adam',loss='categorical_crossentropy',metrics=['accuracy'])"
   ]
  },
  {
   "cell_type": "code",
   "execution_count": 40,
   "id": "631411e0-c9ac-49da-a5dc-772098de425b",
   "metadata": {},
   "outputs": [
    {
     "data": {
      "text/html": [
       "<pre style=\"white-space:pre;overflow-x:auto;line-height:normal;font-family:Menlo,'DejaVu Sans Mono',consolas,'Courier New',monospace\"><span style=\"font-weight: bold\">Model: \"sequential_2\"</span>\n",
       "</pre>\n"
      ],
      "text/plain": [
       "\u001b[1mModel: \"sequential_2\"\u001b[0m\n"
      ]
     },
     "metadata": {},
     "output_type": "display_data"
    },
    {
     "data": {
      "text/html": [
       "<pre style=\"white-space:pre;overflow-x:auto;line-height:normal;font-family:Menlo,'DejaVu Sans Mono',consolas,'Courier New',monospace\">┏━━━━━━━━━━━━━━━━━━━━━━━━━━━━━━━━━┳━━━━━━━━━━━━━━━━━━━━━━━━┳━━━━━━━━━━━━━━━┓\n",
       "┃<span style=\"font-weight: bold\"> Layer (type)                    </span>┃<span style=\"font-weight: bold\"> Output Shape           </span>┃<span style=\"font-weight: bold\">       Param # </span>┃\n",
       "┡━━━━━━━━━━━━━━━━━━━━━━━━━━━━━━━━━╇━━━━━━━━━━━━━━━━━━━━━━━━╇━━━━━━━━━━━━━━━┩\n",
       "│ conv2d_4 (<span style=\"color: #0087ff; text-decoration-color: #0087ff\">Conv2D</span>)               │ (<span style=\"color: #00d7ff; text-decoration-color: #00d7ff\">None</span>, <span style=\"color: #00af00; text-decoration-color: #00af00\">128</span>, <span style=\"color: #00af00; text-decoration-color: #00af00\">128</span>, <span style=\"color: #00af00; text-decoration-color: #00af00\">32</span>)   │           <span style=\"color: #00af00; text-decoration-color: #00af00\">896</span> │\n",
       "├─────────────────────────────────┼────────────────────────┼───────────────┤\n",
       "│ conv2d_5 (<span style=\"color: #0087ff; text-decoration-color: #0087ff\">Conv2D</span>)               │ (<span style=\"color: #00d7ff; text-decoration-color: #00d7ff\">None</span>, <span style=\"color: #00af00; text-decoration-color: #00af00\">128</span>, <span style=\"color: #00af00; text-decoration-color: #00af00\">128</span>, <span style=\"color: #00af00; text-decoration-color: #00af00\">32</span>)   │         <span style=\"color: #00af00; text-decoration-color: #00af00\">9,248</span> │\n",
       "├─────────────────────────────────┼────────────────────────┼───────────────┤\n",
       "│ max_pooling2d_2 (<span style=\"color: #0087ff; text-decoration-color: #0087ff\">MaxPooling2D</span>)  │ (<span style=\"color: #00d7ff; text-decoration-color: #00d7ff\">None</span>, <span style=\"color: #00af00; text-decoration-color: #00af00\">64</span>, <span style=\"color: #00af00; text-decoration-color: #00af00\">64</span>, <span style=\"color: #00af00; text-decoration-color: #00af00\">32</span>)     │             <span style=\"color: #00af00; text-decoration-color: #00af00\">0</span> │\n",
       "├─────────────────────────────────┼────────────────────────┼───────────────┤\n",
       "│ conv2d_6 (<span style=\"color: #0087ff; text-decoration-color: #0087ff\">Conv2D</span>)               │ (<span style=\"color: #00d7ff; text-decoration-color: #00d7ff\">None</span>, <span style=\"color: #00af00; text-decoration-color: #00af00\">64</span>, <span style=\"color: #00af00; text-decoration-color: #00af00\">64</span>, <span style=\"color: #00af00; text-decoration-color: #00af00\">64</span>)     │        <span style=\"color: #00af00; text-decoration-color: #00af00\">18,496</span> │\n",
       "├─────────────────────────────────┼────────────────────────┼───────────────┤\n",
       "│ conv2d_7 (<span style=\"color: #0087ff; text-decoration-color: #0087ff\">Conv2D</span>)               │ (<span style=\"color: #00d7ff; text-decoration-color: #00d7ff\">None</span>, <span style=\"color: #00af00; text-decoration-color: #00af00\">64</span>, <span style=\"color: #00af00; text-decoration-color: #00af00\">64</span>, <span style=\"color: #00af00; text-decoration-color: #00af00\">64</span>)     │        <span style=\"color: #00af00; text-decoration-color: #00af00\">36,928</span> │\n",
       "├─────────────────────────────────┼────────────────────────┼───────────────┤\n",
       "│ max_pooling2d_3 (<span style=\"color: #0087ff; text-decoration-color: #0087ff\">MaxPooling2D</span>)  │ (<span style=\"color: #00d7ff; text-decoration-color: #00d7ff\">None</span>, <span style=\"color: #00af00; text-decoration-color: #00af00\">32</span>, <span style=\"color: #00af00; text-decoration-color: #00af00\">32</span>, <span style=\"color: #00af00; text-decoration-color: #00af00\">64</span>)     │             <span style=\"color: #00af00; text-decoration-color: #00af00\">0</span> │\n",
       "├─────────────────────────────────┼────────────────────────┼───────────────┤\n",
       "│ conv2d_8 (<span style=\"color: #0087ff; text-decoration-color: #0087ff\">Conv2D</span>)               │ (<span style=\"color: #00d7ff; text-decoration-color: #00d7ff\">None</span>, <span style=\"color: #00af00; text-decoration-color: #00af00\">32</span>, <span style=\"color: #00af00; text-decoration-color: #00af00\">32</span>, <span style=\"color: #00af00; text-decoration-color: #00af00\">128</span>)    │        <span style=\"color: #00af00; text-decoration-color: #00af00\">73,856</span> │\n",
       "├─────────────────────────────────┼────────────────────────┼───────────────┤\n",
       "│ conv2d_9 (<span style=\"color: #0087ff; text-decoration-color: #0087ff\">Conv2D</span>)               │ (<span style=\"color: #00d7ff; text-decoration-color: #00d7ff\">None</span>, <span style=\"color: #00af00; text-decoration-color: #00af00\">32</span>, <span style=\"color: #00af00; text-decoration-color: #00af00\">32</span>, <span style=\"color: #00af00; text-decoration-color: #00af00\">128</span>)    │       <span style=\"color: #00af00; text-decoration-color: #00af00\">147,584</span> │\n",
       "├─────────────────────────────────┼────────────────────────┼───────────────┤\n",
       "│ max_pooling2d_4 (<span style=\"color: #0087ff; text-decoration-color: #0087ff\">MaxPooling2D</span>)  │ (<span style=\"color: #00d7ff; text-decoration-color: #00d7ff\">None</span>, <span style=\"color: #00af00; text-decoration-color: #00af00\">16</span>, <span style=\"color: #00af00; text-decoration-color: #00af00\">16</span>, <span style=\"color: #00af00; text-decoration-color: #00af00\">128</span>)    │             <span style=\"color: #00af00; text-decoration-color: #00af00\">0</span> │\n",
       "├─────────────────────────────────┼────────────────────────┼───────────────┤\n",
       "│ conv2d_10 (<span style=\"color: #0087ff; text-decoration-color: #0087ff\">Conv2D</span>)              │ (<span style=\"color: #00d7ff; text-decoration-color: #00d7ff\">None</span>, <span style=\"color: #00af00; text-decoration-color: #00af00\">16</span>, <span style=\"color: #00af00; text-decoration-color: #00af00\">16</span>, <span style=\"color: #00af00; text-decoration-color: #00af00\">256</span>)    │       <span style=\"color: #00af00; text-decoration-color: #00af00\">295,168</span> │\n",
       "├─────────────────────────────────┼────────────────────────┼───────────────┤\n",
       "│ conv2d_11 (<span style=\"color: #0087ff; text-decoration-color: #0087ff\">Conv2D</span>)              │ (<span style=\"color: #00d7ff; text-decoration-color: #00d7ff\">None</span>, <span style=\"color: #00af00; text-decoration-color: #00af00\">16</span>, <span style=\"color: #00af00; text-decoration-color: #00af00\">16</span>, <span style=\"color: #00af00; text-decoration-color: #00af00\">256</span>)    │       <span style=\"color: #00af00; text-decoration-color: #00af00\">590,080</span> │\n",
       "├─────────────────────────────────┼────────────────────────┼───────────────┤\n",
       "│ max_pooling2d_5 (<span style=\"color: #0087ff; text-decoration-color: #0087ff\">MaxPooling2D</span>)  │ (<span style=\"color: #00d7ff; text-decoration-color: #00d7ff\">None</span>, <span style=\"color: #00af00; text-decoration-color: #00af00\">8</span>, <span style=\"color: #00af00; text-decoration-color: #00af00\">8</span>, <span style=\"color: #00af00; text-decoration-color: #00af00\">256</span>)      │             <span style=\"color: #00af00; text-decoration-color: #00af00\">0</span> │\n",
       "├─────────────────────────────────┼────────────────────────┼───────────────┤\n",
       "│ flatten (<span style=\"color: #0087ff; text-decoration-color: #0087ff\">Flatten</span>)               │ (<span style=\"color: #00d7ff; text-decoration-color: #00d7ff\">None</span>, <span style=\"color: #00af00; text-decoration-color: #00af00\">16384</span>)          │             <span style=\"color: #00af00; text-decoration-color: #00af00\">0</span> │\n",
       "├─────────────────────────────────┼────────────────────────┼───────────────┤\n",
       "│ dense (<span style=\"color: #0087ff; text-decoration-color: #0087ff\">Dense</span>)                   │ (<span style=\"color: #00d7ff; text-decoration-color: #00d7ff\">None</span>, <span style=\"color: #00af00; text-decoration-color: #00af00\">1024</span>)           │    <span style=\"color: #00af00; text-decoration-color: #00af00\">16,778,240</span> │\n",
       "├─────────────────────────────────┼────────────────────────┼───────────────┤\n",
       "│ dense_1 (<span style=\"color: #0087ff; text-decoration-color: #0087ff\">Dense</span>)                 │ (<span style=\"color: #00d7ff; text-decoration-color: #00d7ff\">None</span>, <span style=\"color: #00af00; text-decoration-color: #00af00\">10</span>)             │        <span style=\"color: #00af00; text-decoration-color: #00af00\">10,250</span> │\n",
       "└─────────────────────────────────┴────────────────────────┴───────────────┘\n",
       "</pre>\n"
      ],
      "text/plain": [
       "┏━━━━━━━━━━━━━━━━━━━━━━━━━━━━━━━━━┳━━━━━━━━━━━━━━━━━━━━━━━━┳━━━━━━━━━━━━━━━┓\n",
       "┃\u001b[1m \u001b[0m\u001b[1mLayer (type)                   \u001b[0m\u001b[1m \u001b[0m┃\u001b[1m \u001b[0m\u001b[1mOutput Shape          \u001b[0m\u001b[1m \u001b[0m┃\u001b[1m \u001b[0m\u001b[1m      Param #\u001b[0m\u001b[1m \u001b[0m┃\n",
       "┡━━━━━━━━━━━━━━━━━━━━━━━━━━━━━━━━━╇━━━━━━━━━━━━━━━━━━━━━━━━╇━━━━━━━━━━━━━━━┩\n",
       "│ conv2d_4 (\u001b[38;5;33mConv2D\u001b[0m)               │ (\u001b[38;5;45mNone\u001b[0m, \u001b[38;5;34m128\u001b[0m, \u001b[38;5;34m128\u001b[0m, \u001b[38;5;34m32\u001b[0m)   │           \u001b[38;5;34m896\u001b[0m │\n",
       "├─────────────────────────────────┼────────────────────────┼───────────────┤\n",
       "│ conv2d_5 (\u001b[38;5;33mConv2D\u001b[0m)               │ (\u001b[38;5;45mNone\u001b[0m, \u001b[38;5;34m128\u001b[0m, \u001b[38;5;34m128\u001b[0m, \u001b[38;5;34m32\u001b[0m)   │         \u001b[38;5;34m9,248\u001b[0m │\n",
       "├─────────────────────────────────┼────────────────────────┼───────────────┤\n",
       "│ max_pooling2d_2 (\u001b[38;5;33mMaxPooling2D\u001b[0m)  │ (\u001b[38;5;45mNone\u001b[0m, \u001b[38;5;34m64\u001b[0m, \u001b[38;5;34m64\u001b[0m, \u001b[38;5;34m32\u001b[0m)     │             \u001b[38;5;34m0\u001b[0m │\n",
       "├─────────────────────────────────┼────────────────────────┼───────────────┤\n",
       "│ conv2d_6 (\u001b[38;5;33mConv2D\u001b[0m)               │ (\u001b[38;5;45mNone\u001b[0m, \u001b[38;5;34m64\u001b[0m, \u001b[38;5;34m64\u001b[0m, \u001b[38;5;34m64\u001b[0m)     │        \u001b[38;5;34m18,496\u001b[0m │\n",
       "├─────────────────────────────────┼────────────────────────┼───────────────┤\n",
       "│ conv2d_7 (\u001b[38;5;33mConv2D\u001b[0m)               │ (\u001b[38;5;45mNone\u001b[0m, \u001b[38;5;34m64\u001b[0m, \u001b[38;5;34m64\u001b[0m, \u001b[38;5;34m64\u001b[0m)     │        \u001b[38;5;34m36,928\u001b[0m │\n",
       "├─────────────────────────────────┼────────────────────────┼───────────────┤\n",
       "│ max_pooling2d_3 (\u001b[38;5;33mMaxPooling2D\u001b[0m)  │ (\u001b[38;5;45mNone\u001b[0m, \u001b[38;5;34m32\u001b[0m, \u001b[38;5;34m32\u001b[0m, \u001b[38;5;34m64\u001b[0m)     │             \u001b[38;5;34m0\u001b[0m │\n",
       "├─────────────────────────────────┼────────────────────────┼───────────────┤\n",
       "│ conv2d_8 (\u001b[38;5;33mConv2D\u001b[0m)               │ (\u001b[38;5;45mNone\u001b[0m, \u001b[38;5;34m32\u001b[0m, \u001b[38;5;34m32\u001b[0m, \u001b[38;5;34m128\u001b[0m)    │        \u001b[38;5;34m73,856\u001b[0m │\n",
       "├─────────────────────────────────┼────────────────────────┼───────────────┤\n",
       "│ conv2d_9 (\u001b[38;5;33mConv2D\u001b[0m)               │ (\u001b[38;5;45mNone\u001b[0m, \u001b[38;5;34m32\u001b[0m, \u001b[38;5;34m32\u001b[0m, \u001b[38;5;34m128\u001b[0m)    │       \u001b[38;5;34m147,584\u001b[0m │\n",
       "├─────────────────────────────────┼────────────────────────┼───────────────┤\n",
       "│ max_pooling2d_4 (\u001b[38;5;33mMaxPooling2D\u001b[0m)  │ (\u001b[38;5;45mNone\u001b[0m, \u001b[38;5;34m16\u001b[0m, \u001b[38;5;34m16\u001b[0m, \u001b[38;5;34m128\u001b[0m)    │             \u001b[38;5;34m0\u001b[0m │\n",
       "├─────────────────────────────────┼────────────────────────┼───────────────┤\n",
       "│ conv2d_10 (\u001b[38;5;33mConv2D\u001b[0m)              │ (\u001b[38;5;45mNone\u001b[0m, \u001b[38;5;34m16\u001b[0m, \u001b[38;5;34m16\u001b[0m, \u001b[38;5;34m256\u001b[0m)    │       \u001b[38;5;34m295,168\u001b[0m │\n",
       "├─────────────────────────────────┼────────────────────────┼───────────────┤\n",
       "│ conv2d_11 (\u001b[38;5;33mConv2D\u001b[0m)              │ (\u001b[38;5;45mNone\u001b[0m, \u001b[38;5;34m16\u001b[0m, \u001b[38;5;34m16\u001b[0m, \u001b[38;5;34m256\u001b[0m)    │       \u001b[38;5;34m590,080\u001b[0m │\n",
       "├─────────────────────────────────┼────────────────────────┼───────────────┤\n",
       "│ max_pooling2d_5 (\u001b[38;5;33mMaxPooling2D\u001b[0m)  │ (\u001b[38;5;45mNone\u001b[0m, \u001b[38;5;34m8\u001b[0m, \u001b[38;5;34m8\u001b[0m, \u001b[38;5;34m256\u001b[0m)      │             \u001b[38;5;34m0\u001b[0m │\n",
       "├─────────────────────────────────┼────────────────────────┼───────────────┤\n",
       "│ flatten (\u001b[38;5;33mFlatten\u001b[0m)               │ (\u001b[38;5;45mNone\u001b[0m, \u001b[38;5;34m16384\u001b[0m)          │             \u001b[38;5;34m0\u001b[0m │\n",
       "├─────────────────────────────────┼────────────────────────┼───────────────┤\n",
       "│ dense (\u001b[38;5;33mDense\u001b[0m)                   │ (\u001b[38;5;45mNone\u001b[0m, \u001b[38;5;34m1024\u001b[0m)           │    \u001b[38;5;34m16,778,240\u001b[0m │\n",
       "├─────────────────────────────────┼────────────────────────┼───────────────┤\n",
       "│ dense_1 (\u001b[38;5;33mDense\u001b[0m)                 │ (\u001b[38;5;45mNone\u001b[0m, \u001b[38;5;34m10\u001b[0m)             │        \u001b[38;5;34m10,250\u001b[0m │\n",
       "└─────────────────────────────────┴────────────────────────┴───────────────┘\n"
      ]
     },
     "metadata": {},
     "output_type": "display_data"
    },
    {
     "data": {
      "text/html": [
       "<pre style=\"white-space:pre;overflow-x:auto;line-height:normal;font-family:Menlo,'DejaVu Sans Mono',consolas,'Courier New',monospace\"><span style=\"font-weight: bold\"> Total params: </span><span style=\"color: #00af00; text-decoration-color: #00af00\">17,960,746</span> (68.51 MB)\n",
       "</pre>\n"
      ],
      "text/plain": [
       "\u001b[1m Total params: \u001b[0m\u001b[38;5;34m17,960,746\u001b[0m (68.51 MB)\n"
      ]
     },
     "metadata": {},
     "output_type": "display_data"
    },
    {
     "data": {
      "text/html": [
       "<pre style=\"white-space:pre;overflow-x:auto;line-height:normal;font-family:Menlo,'DejaVu Sans Mono',consolas,'Courier New',monospace\"><span style=\"font-weight: bold\"> Trainable params: </span><span style=\"color: #00af00; text-decoration-color: #00af00\">17,960,746</span> (68.51 MB)\n",
       "</pre>\n"
      ],
      "text/plain": [
       "\u001b[1m Trainable params: \u001b[0m\u001b[38;5;34m17,960,746\u001b[0m (68.51 MB)\n"
      ]
     },
     "metadata": {},
     "output_type": "display_data"
    },
    {
     "data": {
      "text/html": [
       "<pre style=\"white-space:pre;overflow-x:auto;line-height:normal;font-family:Menlo,'DejaVu Sans Mono',consolas,'Courier New',monospace\"><span style=\"font-weight: bold\"> Non-trainable params: </span><span style=\"color: #00af00; text-decoration-color: #00af00\">0</span> (0.00 B)\n",
       "</pre>\n"
      ],
      "text/plain": [
       "\u001b[1m Non-trainable params: \u001b[0m\u001b[38;5;34m0\u001b[0m (0.00 B)\n"
      ]
     },
     "metadata": {},
     "output_type": "display_data"
    }
   ],
   "source": [
    "model.summary()"
   ]
  },
  {
   "cell_type": "code",
   "execution_count": 41,
   "id": "e57265e8-c2ed-4e71-91a1-29b9f96711fc",
   "metadata": {},
   "outputs": [
    {
     "name": "stdout",
     "output_type": "stream",
     "text": [
      "Epoch 1/5\n",
      "\u001b[1m334/334\u001b[0m \u001b[32m━━━━━━━━━━━━━━━━━━━━\u001b[0m\u001b[37m\u001b[0m \u001b[1m351s\u001b[0m 1s/step - accuracy: 0.2852 - loss: 2.9200 - val_accuracy: 0.6720 - val_loss: 0.9551\n",
      "Epoch 2/5\n",
      "\u001b[1m334/334\u001b[0m \u001b[32m━━━━━━━━━━━━━━━━━━━━\u001b[0m\u001b[37m\u001b[0m \u001b[1m531s\u001b[0m 2s/step - accuracy: 0.6819 - loss: 0.9516 - val_accuracy: 0.7849 - val_loss: 0.6344\n",
      "Epoch 3/5\n",
      "\u001b[1m334/334\u001b[0m \u001b[32m━━━━━━━━━━━━━━━━━━━━\u001b[0m\u001b[37m\u001b[0m \u001b[1m708s\u001b[0m 2s/step - accuracy: 0.7868 - loss: 0.6245 - val_accuracy: 0.8018 - val_loss: 0.5623\n",
      "Epoch 4/5\n",
      "\u001b[1m334/334\u001b[0m \u001b[32m━━━━━━━━━━━━━━━━━━━━\u001b[0m\u001b[37m\u001b[0m \u001b[1m734s\u001b[0m 2s/step - accuracy: 0.8347 - loss: 0.4689 - val_accuracy: 0.8222 - val_loss: 0.5024\n",
      "Epoch 5/5\n",
      "\u001b[1m334/334\u001b[0m \u001b[32m━━━━━━━━━━━━━━━━━━━━\u001b[0m\u001b[37m\u001b[0m \u001b[1m807s\u001b[0m 2s/step - accuracy: 0.8845 - loss: 0.3335 - val_accuracy: 0.8585 - val_loss: 0.3993\n"
     ]
    }
   ],
   "source": [
    "training_history=model.fit(x=training_set,validation_data=validation_set,epochs=5)"
   ]
  },
  {
   "cell_type": "code",
   "execution_count": 42,
   "id": "1a5b8935-e1cf-482e-81b5-7e2c91f52bd1",
   "metadata": {},
   "outputs": [
    {
     "name": "stdout",
     "output_type": "stream",
     "text": [
      "\u001b[1m334/334\u001b[0m \u001b[32m━━━━━━━━━━━━━━━━━━━━\u001b[0m\u001b[37m\u001b[0m \u001b[1m168s\u001b[0m 503ms/step - accuracy: 0.9192 - loss: 0.2401\n"
     ]
    }
   ],
   "source": [
    "train_loss,train_acc =model.evaluate(training_set)"
   ]
  },
  {
   "cell_type": "code",
   "execution_count": 43,
   "id": "0d191beb-40c9-4b9d-b760-2553ca198b59",
   "metadata": {},
   "outputs": [
    {
     "name": "stdout",
     "output_type": "stream",
     "text": [
      "0.21735362708568573 0.9286718368530273\n"
     ]
    }
   ],
   "source": [
    "print(train_loss,train_acc)"
   ]
  },
  {
   "cell_type": "code",
   "execution_count": 44,
   "id": "84b50e44-1351-4939-8882-12fa8ecb24f3",
   "metadata": {},
   "outputs": [
    {
     "name": "stdout",
     "output_type": "stream",
     "text": [
      "\u001b[1m167/167\u001b[0m \u001b[32m━━━━━━━━━━━━━━━━━━━━\u001b[0m\u001b[37m\u001b[0m \u001b[1m65s\u001b[0m 389ms/step - accuracy: 0.8572 - loss: 0.4068\n"
     ]
    }
   ],
   "source": [
    "val_loss,vall_acc=model.evaluate(validation_set)"
   ]
  },
  {
   "cell_type": "code",
   "execution_count": 46,
   "id": "22bd191d-34db-46c9-8a2f-17feda0fce7d",
   "metadata": {},
   "outputs": [
    {
     "name": "stdout",
     "output_type": "stream",
     "text": [
      "0.3992926776409149 0.8584799766540527\n"
     ]
    }
   ],
   "source": [
    "print(val_loss,vall_acc)"
   ]
  },
  {
   "cell_type": "code",
   "execution_count": 47,
   "id": "b3bef563-73a5-448d-89b1-ee1e2541b4c6",
   "metadata": {},
   "outputs": [
    {
     "name": "stderr",
     "output_type": "stream",
     "text": [
      "WARNING:absl:You are saving your model as an HDF5 file via `model.save()` or `keras.saving.save_model(model)`. This file format is considered legacy. We recommend using instead the native Keras format, e.g. `model.save('my_model.keras')` or `keras.saving.save_model(model, 'my_model.keras')`. \n"
     ]
    }
   ],
   "source": [
    "model.save(\"againtrainedmodel.h5\")"
   ]
  },
  {
   "cell_type": "code",
   "execution_count": 48,
   "id": "d4a2c53a-2241-4e52-a525-9029ffd7d8b1",
   "metadata": {},
   "outputs": [],
   "source": [
    "model.save(\"againtrainedmodel.keras\")"
   ]
  },
  {
   "cell_type": "code",
   "execution_count": 49,
   "id": "75788111-2d3c-49a9-8093-150e585d9f9e",
   "metadata": {},
   "outputs": [],
   "source": [
    "import json\n",
    "with open(\"training_hist.json\",\"w\")as f:\n",
    "    json.dump(training_history.history,f)"
   ]
  },
  {
   "cell_type": "code",
   "execution_count": null,
   "id": "49cf5e2f-5f26-4cc0-8e3c-859e3a565f11",
   "metadata": {},
   "outputs": [],
   "source": [
    "epochs=[i for i in range(1,11)]\n",
    "plt.plot(epochs,training_history.history('train_accuracy'),color='red',label='Training_Accuracy')\n",
    "plt.plot(epochs,training_history.history('val_accuracy'),color='blue',label='Validation_Accuracy')\n",
    "plt.xlabel(\"No of Epochs\")\n",
    "plt.ylabel(\"Accuracy Result\")\n",
    "plt.title(\"Visualization of Accuracy Result\")\n",
    "plt.show()"
   ]
  },
  {
   "cell_type": "code",
   "execution_count": null,
   "id": "6fb939d6-2ee2-4c6a-bab4-dc4d22581a68",
   "metadata": {},
   "outputs": [],
   "source": []
  }
 ],
 "metadata": {
  "kernelspec": {
   "display_name": "Python 3.11 (tensorflow)",
   "language": "python",
   "name": "tf_env311"
  },
  "language_info": {
   "codemirror_mode": {
    "name": "ipython",
    "version": 3
   },
   "file_extension": ".py",
   "mimetype": "text/x-python",
   "name": "python",
   "nbconvert_exporter": "python",
   "pygments_lexer": "ipython3",
   "version": "3.11.13"
  }
 },
 "nbformat": 4,
 "nbformat_minor": 5
}
